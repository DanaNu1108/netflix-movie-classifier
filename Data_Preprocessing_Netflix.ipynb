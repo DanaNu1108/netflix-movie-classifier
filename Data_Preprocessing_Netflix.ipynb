{
 "cells": [
  {
   "cell_type": "code",
   "execution_count": 1,
   "id": "68e914c7-adf6-4bb6-8202-6144f663aa6b",
   "metadata": {},
   "outputs": [],
   "source": [
    "# Import libraries\n",
    "import pandas as pd\n",
    "import numpy as np\n",
    "import matplotlib.pyplot as plt\n",
    "import seaborn as sns\n",
    "import plotly.express as px\n",
    "from sklearn.linear_model import LinearRegression, Ridge, Lasso\n",
    "from sklearn.model_selection import train_test_split, cross_val_score\n",
    "from sklearn.preprocessing import StandardScaler, MinMaxScaler, RobustScaler\n",
    "from statistics import mean\n",
    "from sklearn.preprocessing import LabelEncoder, OneHotEncoder"
   ]
  },
  {
   "cell_type": "code",
   "execution_count": 137,
   "id": "ffe64ba6-3e2c-45d9-b754-8b23d3dfa786",
   "metadata": {},
   "outputs": [],
   "source": [
    "df = pd.read_csv('netflix_originals.csv')"
   ]
  },
  {
   "cell_type": "code",
   "execution_count": 139,
   "id": "f14c6af0-4f09-4217-8928-9af5ca2aac61",
   "metadata": {},
   "outputs": [
    {
     "data": {
      "text/html": [
       "<div>\n",
       "<style scoped>\n",
       "    .dataframe tbody tr th:only-of-type {\n",
       "        vertical-align: middle;\n",
       "    }\n",
       "\n",
       "    .dataframe tbody tr th {\n",
       "        vertical-align: top;\n",
       "    }\n",
       "\n",
       "    .dataframe thead th {\n",
       "        text-align: right;\n",
       "    }\n",
       "</style>\n",
       "<table border=\"1\" class=\"dataframe\">\n",
       "  <thead>\n",
       "    <tr style=\"text-align: right;\">\n",
       "      <th></th>\n",
       "      <th>titles</th>\n",
       "      <th>years</th>\n",
       "      <th>genres</th>\n",
       "      <th>imdb</th>\n",
       "      <th>runtime</th>\n",
       "      <th>description</th>\n",
       "      <th>stars</th>\n",
       "      <th>votes</th>\n",
       "      <th>type</th>\n",
       "      <th>original</th>\n",
       "    </tr>\n",
       "  </thead>\n",
       "  <tbody>\n",
       "    <tr>\n",
       "      <th>0</th>\n",
       "      <td>Zumbo's Just Desserts</td>\n",
       "      <td>2016</td>\n",
       "      <td>Reality-TV</td>\n",
       "      <td>6.9</td>\n",
       "      <td>52 min</td>\n",
       "      <td>Amateur Australian chefs compete to impress pa...</td>\n",
       "      <td>Gigi Falanga, Rachel Khoo, Adriano Zumbo</td>\n",
       "      <td>1,779</td>\n",
       "      <td>TV Show</td>\n",
       "      <td>Netflix</td>\n",
       "    </tr>\n",
       "    <tr>\n",
       "      <th>1</th>\n",
       "      <td>Zona Rosa</td>\n",
       "      <td>2019</td>\n",
       "      <td>Comedy</td>\n",
       "      <td>6.0</td>\n",
       "      <td>NaN</td>\n",
       "      <td>Add a Plot</td>\n",
       "      <td>Ray Contreras, Pablo Morán, Manu Nna, Ana Juli...</td>\n",
       "      <td>33</td>\n",
       "      <td>TV Show</td>\n",
       "      <td>Netflix</td>\n",
       "    </tr>\n",
       "    <tr>\n",
       "      <th>2</th>\n",
       "      <td>Young Wallander</td>\n",
       "      <td>2020</td>\n",
       "      <td>Crime, Drama, Mystery</td>\n",
       "      <td>6.7</td>\n",
       "      <td>NaN</td>\n",
       "      <td>Follow recently graduated police officer Kurt ...</td>\n",
       "      <td>Adam Pålsson, Leanne Best, Richard Dillane, El...</td>\n",
       "      <td>5,419</td>\n",
       "      <td>TV Show</td>\n",
       "      <td>Netflix</td>\n",
       "    </tr>\n",
       "    <tr>\n",
       "      <th>3</th>\n",
       "      <td>You vs. Wild</td>\n",
       "      <td>2019</td>\n",
       "      <td>Adventure, Reality-TV</td>\n",
       "      <td>6.7</td>\n",
       "      <td>20 min</td>\n",
       "      <td>In this interactive series, you'll make key de...</td>\n",
       "      <td>Bear Grylls</td>\n",
       "      <td>1,977</td>\n",
       "      <td>TV Show</td>\n",
       "      <td>Netflix</td>\n",
       "    </tr>\n",
       "    <tr>\n",
       "      <th>4</th>\n",
       "      <td>You</td>\n",
       "      <td>2018</td>\n",
       "      <td>Crime, Drama, Romance</td>\n",
       "      <td>7.8</td>\n",
       "      <td>45 min</td>\n",
       "      <td>A dangerously charming, intensely obsessive yo...</td>\n",
       "      <td>Penn Badgley, Victoria Pedretti, Ambyr Childer...</td>\n",
       "      <td>134,932</td>\n",
       "      <td>TV Show</td>\n",
       "      <td>Netflix</td>\n",
       "    </tr>\n",
       "    <tr>\n",
       "      <th>5</th>\n",
       "      <td>YooHoo to the Rescue</td>\n",
       "      <td>2019</td>\n",
       "      <td>Family</td>\n",
       "      <td>6.9</td>\n",
       "      <td>NaN</td>\n",
       "      <td>In a series of magical missions, quick-witted ...</td>\n",
       "      <td>Ryan Bartley, Kira Buckland, Lucien Dodge, Kyl...</td>\n",
       "      <td>37</td>\n",
       "      <td>TV Show</td>\n",
       "      <td>Netflix</td>\n",
       "    </tr>\n",
       "    <tr>\n",
       "      <th>6</th>\n",
       "      <td>Yankee</td>\n",
       "      <td>2019</td>\n",
       "      <td>Drama</td>\n",
       "      <td>6.0</td>\n",
       "      <td>40 min</td>\n",
       "      <td>On the run from the police, an Arizona man cro...</td>\n",
       "      <td>Pablo Lyle, Ana Layevska, Pamela Almanza, Seba...</td>\n",
       "      <td>458</td>\n",
       "      <td>TV Show</td>\n",
       "      <td>Netflix</td>\n",
       "    </tr>\n",
       "    <tr>\n",
       "      <th>7</th>\n",
       "      <td>Wu Assassins</td>\n",
       "      <td>2019</td>\n",
       "      <td>Action, Crime, Drama</td>\n",
       "      <td>6.4</td>\n",
       "      <td>44 min</td>\n",
       "      <td>A warrior chosen as the latest and last Wu Ass...</td>\n",
       "      <td>Iko Uwais, Byron Mann, Li Jun Li, Lawrence Kao</td>\n",
       "      <td>9,336</td>\n",
       "      <td>TV Show</td>\n",
       "      <td>Netflix</td>\n",
       "    </tr>\n",
       "    <tr>\n",
       "      <th>8</th>\n",
       "      <td>World's Most Wanted</td>\n",
       "      <td>2020</td>\n",
       "      <td>Documentary, Crime</td>\n",
       "      <td>7.1</td>\n",
       "      <td>NaN</td>\n",
       "      <td>Heinous criminals have avoided capture despite...</td>\n",
       "      <td>Jennifer Julian, Thomas Fuentes, Calogero Germ...</td>\n",
       "      <td>1,495</td>\n",
       "      <td>TV Show</td>\n",
       "      <td>Netflix</td>\n",
       "    </tr>\n",
       "    <tr>\n",
       "      <th>9</th>\n",
       "      <td>World of Winx</td>\n",
       "      <td>2016</td>\n",
       "      <td>Animation, Action, Comedy</td>\n",
       "      <td>6.8</td>\n",
       "      <td>30 min</td>\n",
       "      <td>The Winx travel all over the world searching f...</td>\n",
       "      <td>Rebecca Soler, Alysha Deslorieux, Haven Pascha...</td>\n",
       "      <td>556</td>\n",
       "      <td>TV Show</td>\n",
       "      <td>Netflix</td>\n",
       "    </tr>\n",
       "  </tbody>\n",
       "</table>\n",
       "</div>"
      ],
      "text/plain": [
       "                  titles  years                     genres  imdb runtime  \\\n",
       "0  Zumbo's Just Desserts   2016                 Reality-TV   6.9  52 min   \n",
       "1              Zona Rosa   2019                     Comedy   6.0     NaN   \n",
       "2        Young Wallander   2020      Crime, Drama, Mystery   6.7     NaN   \n",
       "3           You vs. Wild   2019      Adventure, Reality-TV   6.7  20 min   \n",
       "4                    You   2018      Crime, Drama, Romance   7.8  45 min   \n",
       "5   YooHoo to the Rescue   2019                     Family   6.9     NaN   \n",
       "6                 Yankee   2019                      Drama   6.0  40 min   \n",
       "7           Wu Assassins   2019       Action, Crime, Drama   6.4  44 min   \n",
       "8    World's Most Wanted   2020         Documentary, Crime   7.1     NaN   \n",
       "9          World of Winx   2016  Animation, Action, Comedy   6.8  30 min   \n",
       "\n",
       "                                         description  \\\n",
       "0  Amateur Australian chefs compete to impress pa...   \n",
       "1                                         Add a Plot   \n",
       "2  Follow recently graduated police officer Kurt ...   \n",
       "3  In this interactive series, you'll make key de...   \n",
       "4  A dangerously charming, intensely obsessive yo...   \n",
       "5  In a series of magical missions, quick-witted ...   \n",
       "6  On the run from the police, an Arizona man cro...   \n",
       "7  A warrior chosen as the latest and last Wu Ass...   \n",
       "8  Heinous criminals have avoided capture despite...   \n",
       "9  The Winx travel all over the world searching f...   \n",
       "\n",
       "                                               stars    votes     type  \\\n",
       "0           Gigi Falanga, Rachel Khoo, Adriano Zumbo    1,779  TV Show   \n",
       "1  Ray Contreras, Pablo Morán, Manu Nna, Ana Juli...       33  TV Show   \n",
       "2  Adam Pålsson, Leanne Best, Richard Dillane, El...    5,419  TV Show   \n",
       "3                                        Bear Grylls    1,977  TV Show   \n",
       "4  Penn Badgley, Victoria Pedretti, Ambyr Childer...  134,932  TV Show   \n",
       "5  Ryan Bartley, Kira Buckland, Lucien Dodge, Kyl...       37  TV Show   \n",
       "6  Pablo Lyle, Ana Layevska, Pamela Almanza, Seba...      458  TV Show   \n",
       "7     Iko Uwais, Byron Mann, Li Jun Li, Lawrence Kao    9,336  TV Show   \n",
       "8  Jennifer Julian, Thomas Fuentes, Calogero Germ...    1,495  TV Show   \n",
       "9  Rebecca Soler, Alysha Deslorieux, Haven Pascha...      556  TV Show   \n",
       "\n",
       "  original  \n",
       "0  Netflix  \n",
       "1  Netflix  \n",
       "2  Netflix  \n",
       "3  Netflix  \n",
       "4  Netflix  \n",
       "5  Netflix  \n",
       "6  Netflix  \n",
       "7  Netflix  \n",
       "8  Netflix  \n",
       "9  Netflix  "
      ]
     },
     "execution_count": 139,
     "metadata": {},
     "output_type": "execute_result"
    }
   ],
   "source": [
    "df.head(10)"
   ]
  },
  {
   "cell_type": "code",
   "execution_count": 141,
   "id": "b8be45c6-a830-4830-83f8-177f613338ff",
   "metadata": {},
   "outputs": [
    {
     "name": "stdout",
     "output_type": "stream",
     "text": [
      "<class 'pandas.core.frame.DataFrame'>\n",
      "RangeIndex: 1517 entries, 0 to 1516\n",
      "Data columns (total 10 columns):\n",
      " #   Column       Non-Null Count  Dtype  \n",
      "---  ------       --------------  -----  \n",
      " 0   titles       1517 non-null   object \n",
      " 1   years        1517 non-null   int64  \n",
      " 2   genres       1516 non-null   object \n",
      " 3   imdb         1512 non-null   float64\n",
      " 4   runtime      1276 non-null   object \n",
      " 5   description  1517 non-null   object \n",
      " 6   stars        1489 non-null   object \n",
      " 7   votes        1516 non-null   object \n",
      " 8   type         1517 non-null   object \n",
      " 9   original     1517 non-null   object \n",
      "dtypes: float64(1), int64(1), object(8)\n",
      "memory usage: 118.6+ KB\n"
     ]
    }
   ],
   "source": [
    "df.info()"
   ]
  },
  {
   "cell_type": "code",
   "execution_count": 143,
   "id": "ffee7348-64ed-47b2-a39b-cdecd858e464",
   "metadata": {},
   "outputs": [
    {
     "data": {
      "text/plain": [
       "(1517, 10)"
      ]
     },
     "execution_count": 143,
     "metadata": {},
     "output_type": "execute_result"
    }
   ],
   "source": [
    "df.shape"
   ]
  },
  {
   "cell_type": "code",
   "execution_count": 145,
   "id": "f904ed93-40c3-4ef5-bfe5-4b8958cd1530",
   "metadata": {},
   "outputs": [],
   "source": [
    "# cleaning 'genres' column, extracting the first genre from each row\n",
    "df['genres'] = df['genres'].str.split(',').str[0]"
   ]
  },
  {
   "cell_type": "code",
   "execution_count": 147,
   "id": "8ffeaabc-0b56-43b7-b690-93f99cc1a4f0",
   "metadata": {},
   "outputs": [],
   "source": [
    "# extracting only numerical values from the 'runtime' column\n",
    "df['runtime'] = df['runtime'].str.extract(r'(\\d+)')"
   ]
  },
  {
   "cell_type": "code",
   "execution_count": 149,
   "id": "d10e9824-717f-4693-a69d-2d26ab1ad536",
   "metadata": {},
   "outputs": [
    {
     "data": {
      "text/plain": [
       "titles           0\n",
       "years            0\n",
       "genres           1\n",
       "imdb             5\n",
       "runtime        241\n",
       "description      0\n",
       "stars           28\n",
       "votes            1\n",
       "type             0\n",
       "original         0\n",
       "dtype: int64"
      ]
     },
     "execution_count": 149,
     "metadata": {},
     "output_type": "execute_result"
    }
   ],
   "source": [
    "# checking for null values \n",
    "df.isnull().sum()"
   ]
  },
  {
   "cell_type": "markdown",
   "id": "3932b172-23a1-4989-9e0b-ac16a156e61e",
   "metadata": {},
   "source": [
    "As we observe in the ouput above, we need to focus on the columns with missing values to either fill them in or drop them before training the model, reducing noise in the data.\n",
    "\n",
    "*Features to impute*:\n",
    "\n",
    "- **genre** : 1 missing value. Since it is categorical, we will use mode imputation, replacing the missing value with the most frequent genre.\n",
    "- **imdb** : 5 missing values. This is a numerical column representing movie rantings, so we will use the overall mean for imputation.\n",
    "- **runtime** : 241 missing values. We have already converted this column to numerical format by removing text *(\"min\")* and keeping only the minutes. Since movie durations generally do not have extreme variations, mean imputation is appopriate.\n",
    "- **stars** : 28 missing values- Since this column is categorical, we will use mode imputation to replace missing values with the most frequent value.\n",
    "- **votes** : 1 missing value. As a numerical column, we will use mean imputation assuming there is no significant variation in the vote distribution."
   ]
  },
  {
   "cell_type": "code",
   "execution_count": 152,
   "id": "f71380f7-6cc9-4a4f-9025-f904164bae7b",
   "metadata": {},
   "outputs": [],
   "source": [
    "# imputation for 'genres' (categorical column) using --mode--\n",
    "df['genres'] = df['genres'].fillna(df['genres'].mode()[0])\n",
    "\n",
    "# imputation for 'imdb' (numerical column) using --mean--\n",
    "df['imdb'] = df['imdb'].fillna(df['imdb'].mean())\n",
    "\n",
    "# imputation for 'runtime' (non numerical values) using just the numerical values from the column and using --mean--\n",
    "df['runtime'] = pd.to_numeric(df['runtime'], errors='coerce') # will convert to numerical \n",
    "df['runtime'] = df['runtime'].fillna(df['runtime'].mean())\n",
    "\n",
    "# imputation for 'stars' (categorical column) using --mode-- \n",
    "df['stars'] = df['stars'].fillna(df['stars'].mode()[0])\n",
    "\n",
    "# imputation for 'votes' (numerical values) using --mean--\n",
    "df['votes'] = pd.to_numeric(df['votes'], errors='coerce') # will convert to numerical \n",
    "df['votes'] = df['votes'].fillna(df['votes'].mean())"
   ]
  },
  {
   "cell_type": "code",
   "execution_count": 154,
   "id": "bb585b6d-697a-4e08-9d55-20de48d98d70",
   "metadata": {},
   "outputs": [
    {
     "data": {
      "text/plain": [
       "titles         0\n",
       "years          0\n",
       "genres         0\n",
       "imdb           0\n",
       "runtime        0\n",
       "description    0\n",
       "stars          0\n",
       "votes          0\n",
       "type           0\n",
       "original       0\n",
       "dtype: int64"
      ]
     },
     "execution_count": 154,
     "metadata": {},
     "output_type": "execute_result"
    }
   ],
   "source": [
    "# checking for null values after imputing\n",
    "df.isnull().sum()"
   ]
  },
  {
   "cell_type": "code",
   "execution_count": 156,
   "id": "85414967-f102-4108-8681-243530ed4eb2",
   "metadata": {},
   "outputs": [
    {
     "data": {
      "image/png": "[encoded data removed]",
      "text/plain": [
       "<Figure size 1200x600 with 4 Axes>"
      ]
     },
     "metadata": {},
     "output_type": "display_data"
    }
   ],
   "source": [
    "# plot the histogram for numerical data\n",
    "numeric_columns = ['years','imdb','runtime','votes']\n",
    "\n",
    "df[numeric_columns].hist(figsize=(12, 6), bins=30, color='orange', edgecolor='black')\n",
    "\n",
    "plt.suptitle('Histograms of Numerical Data')\n",
    "plt.show()"
   ]
  },
  {
   "cell_type": "code",
   "execution_count": 157,
   "id": "a4cb9dd6-4119-4827-8fd4-27536a8c0505",
   "metadata": {},
   "outputs": [
    {
     "name": "stderr",
     "output_type": "stream",
     "text": [
      "C:\\Users\\USER\\AppData\\Local\\Temp\\ipykernel_17084\\2551778412.py:5: FutureWarning:\n",
      "\n",
      "\n",
      "\n",
      "Passing `palette` without assigning `hue` is deprecated and will be removed in v0.14.0. Assign the `y` variable to `hue` and set `legend=False` for the same effect.\n",
      "\n",
      "\n"
     ]
    },
    {
     "data": {
      "image/png": "[encoded data removed]",
      "text/plain": [
       "<Figure size 1200x600 with 1 Axes>"
      ]
     },
     "metadata": {},
     "output_type": "display_data"
    }
   ],
   "source": [
    "# plotting top 10 genres \n",
    "top_10_genres = df['genres'].value_counts().nlargest(10)\n",
    "\n",
    "plt.figure(figsize=(12,6))\n",
    "sns.barplot(x=top_10_genres.values, y=top_10_genres.index, palette='viridis')\n",
    "plt.xlabel('Count')\n",
    "plt.ylabel('Genres')\n",
    "plt.title('Top 10 Most Frequent Genres')\n",
    "plt.show()"
   ]
  },
  {
   "cell_type": "code",
   "execution_count": 158,
   "id": "99f61ce7-e9f4-4ca1-a34c-26087e3f37a3",
   "metadata": {},
   "outputs": [
    {
     "data": {
      "image/png": "[encoded data removed]",
      "text/plain": [
       "<Figure size 1200x600 with 1 Axes>"
      ]
     },
     "metadata": {},
     "output_type": "display_data"
    }
   ],
   "source": [
    "# line chart for number of releases per year \n",
    "releases_per_year = df['years'].value_counts()\n",
    "\n",
    "plt.figure(figsize=(12,6))\n",
    "plt.plot(releases_per_year.index, releases_per_year.values, marker='o', color='coral')\n",
    "plt.xlabel('Year')\n",
    "plt.ylabel('Number of Releases')\n",
    "plt.title('Number of Releases Per Year')\n",
    "plt.show()"
   ]
  },
  {
   "cell_type": "code",
   "execution_count": 159,
   "id": "c2cd924a-5913-415d-b0cc-bdd9b7b668e6",
   "metadata": {},
   "outputs": [
    {
     "data": {
      "application/vnd.plotly.v1+json": {
       "config": {
        "plotlyServerURL": "https://plot.ly"
       },
       "data": [
        {
         "branchvalues": "total",
         "customdata": [
          [
           "Movie"
          ],
          [
           "Movie"
          ],
          [
           "TV Show"
          ],
          [
           "TV Show"
          ],
          [
           "TV Show"
          ],
          [
           "Movie"
          ],
          [
           "TV Show"
          ],
          [
           "TV Show"
          ],
          [
           "TV Show"
          ],
          [
           "TV Show"
          ],
          [
           "TV Show"
          ],
          [
           "Movie"
          ],
          [
           "TV Show"
          ],
          [
           "TV Show"
          ],
          [
           "TV Show"
          ],
          [
           "Movie"
          ],
          [
           "TV Show"
          ],
          [
           "Movie"
          ],
          [
           "TV Show"
          ],
          [
           "TV Show"
          ],
          [
           "Movie"
          ],
          [
           "TV Show"
          ],
          [
           "Movie"
          ],
          [
           "TV Show"
          ],
          [
           "Movie"
          ],
          [
           "TV Show"
          ],
          [
           "Movie"
          ],
          [
           "TV Show"
          ],
          [
           "Movie"
          ],
          [
           "TV Show"
          ],
          [
           "Movie"
          ],
          [
           "TV Show"
          ],
          [
           "Movie"
          ],
          [
           "TV Show"
          ],
          [
           "Movie"
          ],
          [
           "TV Show"
          ],
          [
           "Movie"
          ],
          [
           "TV Show"
          ],
          [
           "Movie"
          ],
          [
           "TV Show"
          ]
         ],
         "domain": {
          "x": [
           0,
           1
          ],
          "y": [
           0,
           1
          ]
         },
         "hovertemplate": "labels=%{label}<br>count=%{value}<br>parent=%{parent}<br>id=%{id}<br>type=%{customdata[0]}<extra></extra>",
         "ids": [
          "Movie/Action",
          "Movie/Horror",
          "TV Show/Horror",
          "TV Show/Music",
          "TV Show/Musical",
          "Movie/Mystery",
          "TV Show/Mystery",
          "TV Show/Reality-TV",
          "TV Show/History",
          "TV Show/Romance",
          "TV Show/Sci-Fi",
          "Movie/Short",
          "TV Show/Short",
          "TV Show/Sport",
          "TV Show/Talk-Show",
          "Movie/Thriller",
          "TV Show/Thriller",
          "Movie/Sci-Fi",
          "TV Show/Game-Show",
          "TV Show/Fantasy",
          "Movie/Fantasy",
          "TV Show/Action",
          "Movie/Adventure",
          "TV Show/Adventure",
          "Movie/Animation",
          "TV Show/Animation",
          "Movie/Biography",
          "TV Show/Biography",
          "Movie/Comedy",
          "TV Show/Comedy",
          "Movie/Crime",
          "TV Show/Crime",
          "Movie/Documentary",
          "TV Show/Documentary",
          "Movie/Drama",
          "TV Show/Drama",
          "Movie/Family",
          "TV Show/Family",
          "Movie",
          "TV Show"
         ],
         "labels": [
          "Action",
          "Horror",
          "Horror",
          "Music",
          "Musical",
          "Mystery",
          "Mystery",
          "Reality-TV",
          "History",
          "Romance",
          "Sci-Fi",
          "Short",
          "Short",
          "Sport",
          "Talk-Show",
          "Thriller",
          "Thriller",
          "Sci-Fi",
          "Game-Show",
          "Fantasy",
          "Fantasy",
          "Action",
          "Adventure",
          "Adventure",
          "Animation",
          "Animation",
          "Biography",
          "Biography",
          "Comedy",
          "Comedy",
          "Crime",
          "Crime",
          "Documentary",
          "Documentary",
          "Drama",
          "Drama",
          "Family",
          "Family",
          "Movie",
          "TV Show"
         ],
         "marker": {
          "colors": [
           "teal",
           "teal",
           "salmon",
           "salmon",
           "salmon",
           "teal",
           "salmon",
           "salmon",
           "salmon",
           "salmon",
           "salmon",
           "teal",
           "salmon",
           "salmon",
           "salmon",
           "teal",
           "salmon",
           "teal",
           "salmon",
           "salmon",
           "teal",
           "salmon",
           "teal",
           "salmon",
           "teal",
           "salmon",
           "teal",
           "salmon",
           "teal",
           "salmon",
           "teal",
           "salmon",
           "teal",
           "salmon",
           "teal",
           "salmon",
           "teal",
           "salmon",
           "teal",
           "salmon"
          ]
         },
         "name": "",
         "parents": [
          "Movie",
          "Movie",
          "TV Show",
          "TV Show",
          "TV Show",
          "Movie",
          "TV Show",
          "TV Show",
          "TV Show",
          "TV Show",
          "TV Show",
          "Movie",
          "TV Show",
          "TV Show",
          "TV Show",
          "Movie",
          "TV Show",
          "Movie",
          "TV Show",
          "TV Show",
          "Movie",
          "TV Show",
          "Movie",
          "TV Show",
          "Movie",
          "TV Show",
          "Movie",
          "TV Show",
          "Movie",
          "TV Show",
          "Movie",
          "TV Show",
          "Movie",
          "TV Show",
          "Movie",
          "TV Show",
          "Movie",
          "TV Show",
          "",
          ""
         ],
         "type": "sunburst",
         "values": [
          55,
          7,
          5,
          4,
          1,
          2,
          1,
          53,
          1,
          1,
          1,
          6,
          6,
          2,
          5,
          3,
          2,
          1,
          12,
          3,
          1,
          42,
          7,
          16,
          26,
          145,
          18,
          5,
          128,
          362,
          19,
          54,
          156,
          184,
          74,
          98,
          2,
          9,
          505,
          1012
         ]
        }
       ],
       "layout": {
        "height": 500,
        "legend": {
         "tracegroupgap": 0
        },
        "template": {
         "data": {
          "bar": [
           {
            "error_x": {
             "color": "#2a3f5f"
            },
            "error_y": {
             "color": "#2a3f5f"
            },
            "marker": {
             "line": {
              "color": "#E5ECF6",
              "width": 0.5
             },
             "pattern": {
              "fillmode": "overlay",
              "size": 10,
              "solidity": 0.2
             }
            },
            "type": "bar"
           }
          ],
          "barpolar": [
           {
            "marker": {
             "line": {
              "color": "#E5ECF6",
              "width": 0.5
             },
             "pattern": {
              "fillmode": "overlay",
              "size": 10,
              "solidity": 0.2
             }
            },
            "type": "barpolar"
           }
          ],
          "carpet": [
           {
            "aaxis": {
             "endlinecolor": "#2a3f5f",
             "gridcolor": "white",
             "linecolor": "white",
             "minorgridcolor": "white",
             "startlinecolor": "#2a3f5f"
            },
            "baxis": {
             "endlinecolor": "#2a3f5f",
             "gridcolor": "white",
             "linecolor": "white",
             "minorgridcolor": "white",
             "startlinecolor": "#2a3f5f"
            },
            "type": "carpet"
           }
          ],
          "choropleth": [
           {
            "colorbar": {
             "outlinewidth": 0,
             "ticks": ""
            },
            "type": "choropleth"
           }
          ],
          "contour": [
           {
            "colorbar": {
             "outlinewidth": 0,
             "ticks": ""
            },
            "colorscale": [
             [
              0,
              "#0d0887"
             ],
             [
              0.1111111111111111,
              "#46039f"
             ],
             [
              0.2222222222222222,
              "#7201a8"
             ],
             [
              0.3333333333333333,
              "#9c179e"
             ],
             [
              0.4444444444444444,
              "#bd3786"
             ],
             [
              0.5555555555555556,
              "#d8576b"
             ],
             [
              0.6666666666666666,
              "#ed7953"
             ],
             [
              0.7777777777777778,
              "#fb9f3a"
             ],
             [
              0.8888888888888888,
              "#fdca26"
             ],
             [
              1,
              "#f0f921"
             ]
            ],
            "type": "contour"
           }
          ],
          "contourcarpet": [
           {
            "colorbar": {
             "outlinewidth": 0,
             "ticks": ""
            },
            "type": "contourcarpet"
           }
          ],
          "heatmap": [
           {
            "colorbar": {
             "outlinewidth": 0,
             "ticks": ""
            },
            "colorscale": [
             [
              0,
              "#0d0887"
             ],
             [
              0.1111111111111111,
              "#46039f"
             ],
             [
              0.2222222222222222,
              "#7201a8"
             ],
             [
              0.3333333333333333,
              "#9c179e"
             ],
             [
              0.4444444444444444,
              "#bd3786"
             ],
             [
              0.5555555555555556,
              "#d8576b"
             ],
             [
              0.6666666666666666,
              "#ed7953"
             ],
             [
              0.7777777777777778,
              "#fb9f3a"
             ],
             [
              0.8888888888888888,
              "#fdca26"
             ],
             [
              1,
              "#f0f921"
             ]
            ],
            "type": "heatmap"
           }
          ],
          "heatmapgl": [
           {
            "colorbar": {
             "outlinewidth": 0,
             "ticks": ""
            },
            "colorscale": [
             [
              0,
              "#0d0887"
             ],
             [
              0.1111111111111111,
              "#46039f"
             ],
             [
              0.2222222222222222,
              "#7201a8"
             ],
             [
              0.3333333333333333,
              "#9c179e"
             ],
             [
              0.4444444444444444,
              "#bd3786"
             ],
             [
              0.5555555555555556,
              "#d8576b"
             ],
             [
              0.6666666666666666,
              "#ed7953"
             ],
             [
              0.7777777777777778,
              "#fb9f3a"
             ],
             [
              0.8888888888888888,
              "#fdca26"
             ],
             [
              1,
              "#f0f921"
             ]
            ],
            "type": "heatmapgl"
           }
          ],
          "histogram": [
           {
            "marker": {
             "pattern": {
              "fillmode": "overlay",
              "size": 10,
              "solidity": 0.2
             }
            },
            "type": "histogram"
           }
          ],
          "histogram2d": [
           {
            "colorbar": {
             "outlinewidth": 0,
             "ticks": ""
            },
            "colorscale": [
             [
              0,
              "#0d0887"
             ],
             [
              0.1111111111111111,
              "#46039f"
             ],
             [
              0.2222222222222222,
              "#7201a8"
             ],
             [
              0.3333333333333333,
              "#9c179e"
             ],
             [
              0.4444444444444444,
              "#bd3786"
             ],
             [
              0.5555555555555556,
              "#d8576b"
             ],
             [
              0.6666666666666666,
              "#ed7953"
             ],
             [
              0.7777777777777778,
              "#fb9f3a"
             ],
             [
              0.8888888888888888,
              "#fdca26"
             ],
             [
              1,
              "#f0f921"
             ]
            ],
            "type": "histogram2d"
           }
          ],
          "histogram2dcontour": [
           {
            "colorbar": {
             "outlinewidth": 0,
             "ticks": ""
            },
            "colorscale": [
             [
              0,
              "#0d0887"
             ],
             [
              0.1111111111111111,
              "#46039f"
             ],
             [
              0.2222222222222222,
              "#7201a8"
             ],
             [
              0.3333333333333333,
              "#9c179e"
             ],
             [
              0.4444444444444444,
              "#bd3786"
             ],
             [
              0.5555555555555556,
              "#d8576b"
             ],
             [
              0.6666666666666666,
              "#ed7953"
             ],
             [
              0.7777777777777778,
              "#fb9f3a"
             ],
             [
              0.8888888888888888,
              "#fdca26"
             ],
             [
              1,
              "#f0f921"
             ]
            ],
            "type": "histogram2dcontour"
           }
          ],
          "mesh3d": [
           {
            "colorbar": {
             "outlinewidth": 0,
             "ticks": ""
            },
            "type": "mesh3d"
           }
          ],
          "parcoords": [
           {
            "line": {
             "colorbar": {
              "outlinewidth": 0,
              "ticks": ""
             }
            },
            "type": "parcoords"
           }
          ],
          "pie": [
           {
            "automargin": true,
            "type": "pie"
           }
          ],
          "scatter": [
           {
            "fillpattern": {
             "fillmode": "overlay",
             "size": 10,
             "solidity": 0.2
            },
            "type": "scatter"
           }
          ],
          "scatter3d": [
           {
            "line": {
             "colorbar": {
              "outlinewidth": 0,
              "ticks": ""
             }
            },
            "marker": {
             "colorbar": {
              "outlinewidth": 0,
              "ticks": ""
             }
            },
            "type": "scatter3d"
           }
          ],
          "scattercarpet": [
           {
            "marker": {
             "colorbar": {
              "outlinewidth": 0,
              "ticks": ""
             }
            },
            "type": "scattercarpet"
           }
          ],
          "scattergeo": [
           {
            "marker": {
             "colorbar": {
              "outlinewidth": 0,
              "ticks": ""
             }
            },
            "type": "scattergeo"
           }
          ],
          "scattergl": [
           {
            "marker": {
             "colorbar": {
              "outlinewidth": 0,
              "ticks": ""
             }
            },
            "type": "scattergl"
           }
          ],
          "scattermapbox": [
           {
            "marker": {
             "colorbar": {
              "outlinewidth": 0,
              "ticks": ""
             }
            },
            "type": "scattermapbox"
           }
          ],
          "scatterpolar": [
           {
            "marker": {
             "colorbar": {
              "outlinewidth": 0,
              "ticks": ""
             }
            },
            "type": "scatterpolar"
           }
          ],
          "scatterpolargl": [
           {
            "marker": {
             "colorbar": {
              "outlinewidth": 0,
              "ticks": ""
             }
            },
            "type": "scatterpolargl"
           }
          ],
          "scatterternary": [
           {
            "marker": {
             "colorbar": {
              "outlinewidth": 0,
              "ticks": ""
             }
            },
            "type": "scatterternary"
           }
          ],
          "surface": [
           {
            "colorbar": {
             "outlinewidth": 0,
             "ticks": ""
            },
            "colorscale": [
             [
              0,
              "#0d0887"
             ],
             [
              0.1111111111111111,
              "#46039f"
             ],
             [
              0.2222222222222222,
              "#7201a8"
             ],
             [
              0.3333333333333333,
              "#9c179e"
             ],
             [
              0.4444444444444444,
              "#bd3786"
             ],
             [
              0.5555555555555556,
              "#d8576b"
             ],
             [
              0.6666666666666666,
              "#ed7953"
             ],
             [
              0.7777777777777778,
              "#fb9f3a"
             ],
             [
              0.8888888888888888,
              "#fdca26"
             ],
             [
              1,
              "#f0f921"
             ]
            ],
            "type": "surface"
           }
          ],
          "table": [
           {
            "cells": {
             "fill": {
              "color": "#EBF0F8"
             },
             "line": {
              "color": "white"
             }
            },
            "header": {
             "fill": {
              "color": "#C8D4E3"
             },
             "line": {
              "color": "white"
             }
            },
            "type": "table"
           }
          ]
         },
         "layout": {
          "annotationdefaults": {
           "arrowcolor": "#2a3f5f",
           "arrowhead": 0,
           "arrowwidth": 1
          },
          "autotypenumbers": "strict",
          "coloraxis": {
           "colorbar": {
            "outlinewidth": 0,
            "ticks": ""
           }
          },
          "colorscale": {
           "diverging": [
            [
             0,
             "#8e0152"
            ],
            [
             0.1,
             "#c51b7d"
            ],
            [
             0.2,
             "#de77ae"
            ],
            [
             0.3,
             "#f1b6da"
            ],
            [
             0.4,
             "#fde0ef"
            ],
            [
             0.5,
             "#f7f7f7"
            ],
            [
             0.6,
             "#e6f5d0"
            ],
            [
             0.7,
             "#b8e186"
            ],
            [
             0.8,
             "#7fbc41"
            ],
            [
             0.9,
             "#4d9221"
            ],
            [
             1,
             "#276419"
            ]
           ],
           "sequential": [
            [
             0,
             "#0d0887"
            ],
            [
             0.1111111111111111,
             "#46039f"
            ],
            [
             0.2222222222222222,
             "#7201a8"
            ],
            [
             0.3333333333333333,
             "#9c179e"
            ],
            [
             0.4444444444444444,
             "#bd3786"
            ],
            [
             0.5555555555555556,
             "#d8576b"
            ],
            [
             0.6666666666666666,
             "#ed7953"
            ],
            [
             0.7777777777777778,
             "#fb9f3a"
            ],
            [
             0.8888888888888888,
             "#fdca26"
            ],
            [
             1,
             "#f0f921"
            ]
           ],
           "sequentialminus": [
            [
             0,
             "#0d0887"
            ],
            [
             0.1111111111111111,
             "#46039f"
            ],
            [
             0.2222222222222222,
             "#7201a8"
            ],
            [
             0.3333333333333333,
             "#9c179e"
            ],
            [
             0.4444444444444444,
             "#bd3786"
            ],
            [
             0.5555555555555556,
             "#d8576b"
            ],
            [
             0.6666666666666666,
             "#ed7953"
            ],
            [
             0.7777777777777778,
             "#fb9f3a"
            ],
            [
             0.8888888888888888,
             "#fdca26"
            ],
            [
             1,
             "#f0f921"
            ]
           ]
          },
          "colorway": [
           "#636efa",
           "#EF553B",
           "#00cc96",
           "#ab63fa",
           "#FFA15A",
           "#19d3f3",
           "#FF6692",
           "#B6E880",
           "#FF97FF",
           "#FECB52"
          ],
          "font": {
           "color": "#2a3f5f"
          },
          "geo": {
           "bgcolor": "white",
           "lakecolor": "white",
           "landcolor": "#E5ECF6",
           "showlakes": true,
           "showland": true,
           "subunitcolor": "white"
          },
          "hoverlabel": {
           "align": "left"
          },
          "hovermode": "closest",
          "mapbox": {
           "style": "light"
          },
          "paper_bgcolor": "white",
          "plot_bgcolor": "#E5ECF6",
          "polar": {
           "angularaxis": {
            "gridcolor": "white",
            "linecolor": "white",
            "ticks": ""
           },
           "bgcolor": "#E5ECF6",
           "radialaxis": {
            "gridcolor": "white",
            "linecolor": "white",
            "ticks": ""
           }
          },
          "scene": {
           "xaxis": {
            "backgroundcolor": "#E5ECF6",
            "gridcolor": "white",
            "gridwidth": 2,
            "linecolor": "white",
            "showbackground": true,
            "ticks": "",
            "zerolinecolor": "white"
           },
           "yaxis": {
            "backgroundcolor": "#E5ECF6",
            "gridcolor": "white",
            "gridwidth": 2,
            "linecolor": "white",
            "showbackground": true,
            "ticks": "",
            "zerolinecolor": "white"
           },
           "zaxis": {
            "backgroundcolor": "#E5ECF6",
            "gridcolor": "white",
            "gridwidth": 2,
            "linecolor": "white",
            "showbackground": true,
            "ticks": "",
            "zerolinecolor": "white"
           }
          },
          "shapedefaults": {
           "line": {
            "color": "#2a3f5f"
           }
          },
          "ternary": {
           "aaxis": {
            "gridcolor": "white",
            "linecolor": "white",
            "ticks": ""
           },
           "baxis": {
            "gridcolor": "white",
            "linecolor": "white",
            "ticks": ""
           },
           "bgcolor": "#E5ECF6",
           "caxis": {
            "gridcolor": "white",
            "linecolor": "white",
            "ticks": ""
           }
          },
          "title": {
           "x": 0.05
          },
          "xaxis": {
           "automargin": true,
           "gridcolor": "white",
           "linecolor": "white",
           "ticks": "",
           "title": {
            "standoff": 15
           },
           "zerolinecolor": "white",
           "zerolinewidth": 2
          },
          "yaxis": {
           "automargin": true,
           "gridcolor": "white",
           "linecolor": "white",
           "ticks": "",
           "title": {
            "standoff": 15
           },
           "zerolinecolor": "white",
           "zerolinewidth": 2
          }
         }
        },
        "title": {
         "text": "Distribution of Genres by Content Type"
        },
        "width": 500
       }
      },
      "image/png": "[encoded data removed]",
      "text/html": [
       "<div>                            <div id=\"51e6733a-8189-42b2-b392-792252087db9\" class=\"plotly-graph-div\" style=\"height:500px; width:500px;\"></div>            <script type=\"text/javascript\">                require([\"plotly\"], function(Plotly) {                    window.PLOTLYENV=window.PLOTLYENV || {};                                    if (document.getElementById(\"51e6733a-8189-42b2-b392-792252087db9\")) {                    Plotly.newPlot(                        \"51e6733a-8189-42b2-b392-792252087db9\",                        [{\"branchvalues\":\"total\",\"customdata\":[[\"Movie\"],[\"Movie\"],[\"TV Show\"],[\"TV Show\"],[\"TV Show\"],[\"Movie\"],[\"TV Show\"],[\"TV Show\"],[\"TV Show\"],[\"TV Show\"],[\"TV Show\"],[\"Movie\"],[\"TV Show\"],[\"TV Show\"],[\"TV Show\"],[\"Movie\"],[\"TV Show\"],[\"Movie\"],[\"TV Show\"],[\"TV Show\"],[\"Movie\"],[\"TV Show\"],[\"Movie\"],[\"TV Show\"],[\"Movie\"],[\"TV Show\"],[\"Movie\"],[\"TV Show\"],[\"Movie\"],[\"TV Show\"],[\"Movie\"],[\"TV Show\"],[\"Movie\"],[\"TV Show\"],[\"Movie\"],[\"TV Show\"],[\"Movie\"],[\"TV Show\"],[\"Movie\"],[\"TV Show\"]],\"domain\":{\"x\":[0.0,1.0],\"y\":[0.0,1.0]},\"hovertemplate\":\"labels=%{label}\\u003cbr\\u003ecount=%{value}\\u003cbr\\u003eparent=%{parent}\\u003cbr\\u003eid=%{id}\\u003cbr\\u003etype=%{customdata[0]}\\u003cextra\\u003e\\u003c\\u002fextra\\u003e\",\"ids\":[\"Movie\\u002fAction\",\"Movie\\u002fHorror\",\"TV Show\\u002fHorror\",\"TV Show\\u002fMusic\",\"TV Show\\u002fMusical\",\"Movie\\u002fMystery\",\"TV Show\\u002fMystery\",\"TV Show\\u002fReality-TV\",\"TV Show\\u002fHistory\",\"TV Show\\u002fRomance\",\"TV Show\\u002fSci-Fi\",\"Movie\\u002fShort\",\"TV Show\\u002fShort\",\"TV Show\\u002fSport\",\"TV Show\\u002fTalk-Show\",\"Movie\\u002fThriller\",\"TV Show\\u002fThriller\",\"Movie\\u002fSci-Fi\",\"TV Show\\u002fGame-Show\",\"TV Show\\u002fFantasy\",\"Movie\\u002fFantasy\",\"TV Show\\u002fAction\",\"Movie\\u002fAdventure\",\"TV Show\\u002fAdventure\",\"Movie\\u002fAnimation\",\"TV Show\\u002fAnimation\",\"Movie\\u002fBiography\",\"TV Show\\u002fBiography\",\"Movie\\u002fComedy\",\"TV Show\\u002fComedy\",\"Movie\\u002fCrime\",\"TV Show\\u002fCrime\",\"Movie\\u002fDocumentary\",\"TV Show\\u002fDocumentary\",\"Movie\\u002fDrama\",\"TV Show\\u002fDrama\",\"Movie\\u002fFamily\",\"TV Show\\u002fFamily\",\"Movie\",\"TV Show\"],\"labels\":[\"Action\",\"Horror\",\"Horror\",\"Music\",\"Musical\",\"Mystery\",\"Mystery\",\"Reality-TV\",\"History\",\"Romance\",\"Sci-Fi\",\"Short\",\"Short\",\"Sport\",\"Talk-Show\",\"Thriller\",\"Thriller\",\"Sci-Fi\",\"Game-Show\",\"Fantasy\",\"Fantasy\",\"Action\",\"Adventure\",\"Adventure\",\"Animation\",\"Animation\",\"Biography\",\"Biography\",\"Comedy\",\"Comedy\",\"Crime\",\"Crime\",\"Documentary\",\"Documentary\",\"Drama\",\"Drama\",\"Family\",\"Family\",\"Movie\",\"TV Show\"],\"marker\":{\"colors\":[\"teal\",\"teal\",\"salmon\",\"salmon\",\"salmon\",\"teal\",\"salmon\",\"salmon\",\"salmon\",\"salmon\",\"salmon\",\"teal\",\"salmon\",\"salmon\",\"salmon\",\"teal\",\"salmon\",\"teal\",\"salmon\",\"salmon\",\"teal\",\"salmon\",\"teal\",\"salmon\",\"teal\",\"salmon\",\"teal\",\"salmon\",\"teal\",\"salmon\",\"teal\",\"salmon\",\"teal\",\"salmon\",\"teal\",\"salmon\",\"teal\",\"salmon\",\"teal\",\"salmon\"]},\"name\":\"\",\"parents\":[\"Movie\",\"Movie\",\"TV Show\",\"TV Show\",\"TV Show\",\"Movie\",\"TV Show\",\"TV Show\",\"TV Show\",\"TV Show\",\"TV Show\",\"Movie\",\"TV Show\",\"TV Show\",\"TV Show\",\"Movie\",\"TV Show\",\"Movie\",\"TV Show\",\"TV Show\",\"Movie\",\"TV Show\",\"Movie\",\"TV Show\",\"Movie\",\"TV Show\",\"Movie\",\"TV Show\",\"Movie\",\"TV Show\",\"Movie\",\"TV Show\",\"Movie\",\"TV Show\",\"Movie\",\"TV Show\",\"Movie\",\"TV Show\",\"\",\"\"],\"values\":[55,7,5,4,1,2,1,53,1,1,1,6,6,2,5,3,2,1,12,3,1,42,7,16,26,145,18,5,128,362,19,54,156,184,74,98,2,9,505,1012],\"type\":\"sunburst\"}],                        {\"template\":{\"data\":{\"histogram2dcontour\":[{\"type\":\"histogram2dcontour\",\"colorbar\":{\"outlinewidth\":0,\"ticks\":\"\"},\"colorscale\":[[0.0,\"#0d0887\"],[0.1111111111111111,\"#46039f\"],[0.2222222222222222,\"#7201a8\"],[0.3333333333333333,\"#9c179e\"],[0.4444444444444444,\"#bd3786\"],[0.5555555555555556,\"#d8576b\"],[0.6666666666666666,\"#ed7953\"],[0.7777777777777778,\"#fb9f3a\"],[0.8888888888888888,\"#fdca26\"],[1.0,\"#f0f921\"]]}],\"choropleth\":[{\"type\":\"choropleth\",\"colorbar\":{\"outlinewidth\":0,\"ticks\":\"\"}}],\"histogram2d\":[{\"type\":\"histogram2d\",\"colorbar\":{\"outlinewidth\":0,\"ticks\":\"\"},\"colorscale\":[[0.0,\"#0d0887\"],[0.1111111111111111,\"#46039f\"],[0.2222222222222222,\"#7201a8\"],[0.3333333333333333,\"#9c179e\"],[0.4444444444444444,\"#bd3786\"],[0.5555555555555556,\"#d8576b\"],[0.6666666666666666,\"#ed7953\"],[0.7777777777777778,\"#fb9f3a\"],[0.8888888888888888,\"#fdca26\"],[1.0,\"#f0f921\"]]}],\"heatmap\":[{\"type\":\"heatmap\",\"colorbar\":{\"outlinewidth\":0,\"ticks\":\"\"},\"colorscale\":[[0.0,\"#0d0887\"],[0.1111111111111111,\"#46039f\"],[0.2222222222222222,\"#7201a8\"],[0.3333333333333333,\"#9c179e\"],[0.4444444444444444,\"#bd3786\"],[0.5555555555555556,\"#d8576b\"],[0.6666666666666666,\"#ed7953\"],[0.7777777777777778,\"#fb9f3a\"],[0.8888888888888888,\"#fdca26\"],[1.0,\"#f0f921\"]]}],\"heatmapgl\":[{\"type\":\"heatmapgl\",\"colorbar\":{\"outlinewidth\":0,\"ticks\":\"\"},\"colorscale\":[[0.0,\"#0d0887\"],[0.1111111111111111,\"#46039f\"],[0.2222222222222222,\"#7201a8\"],[0.3333333333333333,\"#9c179e\"],[0.4444444444444444,\"#bd3786\"],[0.5555555555555556,\"#d8576b\"],[0.6666666666666666,\"#ed7953\"],[0.7777777777777778,\"#fb9f3a\"],[0.8888888888888888,\"#fdca26\"],[1.0,\"#f0f921\"]]}],\"contourcarpet\":[{\"type\":\"contourcarpet\",\"colorbar\":{\"outlinewidth\":0,\"ticks\":\"\"}}],\"contour\":[{\"type\":\"contour\",\"colorbar\":{\"outlinewidth\":0,\"ticks\":\"\"},\"colorscale\":[[0.0,\"#0d0887\"],[0.1111111111111111,\"#46039f\"],[0.2222222222222222,\"#7201a8\"],[0.3333333333333333,\"#9c179e\"],[0.4444444444444444,\"#bd3786\"],[0.5555555555555556,\"#d8576b\"],[0.6666666666666666,\"#ed7953\"],[0.7777777777777778,\"#fb9f3a\"],[0.8888888888888888,\"#fdca26\"],[1.0,\"#f0f921\"]]}],\"surface\":[{\"type\":\"surface\",\"colorbar\":{\"outlinewidth\":0,\"ticks\":\"\"},\"colorscale\":[[0.0,\"#0d0887\"],[0.1111111111111111,\"#46039f\"],[0.2222222222222222,\"#7201a8\"],[0.3333333333333333,\"#9c179e\"],[0.4444444444444444,\"#bd3786\"],[0.5555555555555556,\"#d8576b\"],[0.6666666666666666,\"#ed7953\"],[0.7777777777777778,\"#fb9f3a\"],[0.8888888888888888,\"#fdca26\"],[1.0,\"#f0f921\"]]}],\"mesh3d\":[{\"type\":\"mesh3d\",\"colorbar\":{\"outlinewidth\":0,\"ticks\":\"\"}}],\"scatter\":[{\"fillpattern\":{\"fillmode\":\"overlay\",\"size\":10,\"solidity\":0.2},\"type\":\"scatter\"}],\"parcoords\":[{\"type\":\"parcoords\",\"line\":{\"colorbar\":{\"outlinewidth\":0,\"ticks\":\"\"}}}],\"scatterpolargl\":[{\"type\":\"scatterpolargl\",\"marker\":{\"colorbar\":{\"outlinewidth\":0,\"ticks\":\"\"}}}],\"bar\":[{\"error_x\":{\"color\":\"#2a3f5f\"},\"error_y\":{\"color\":\"#2a3f5f\"},\"marker\":{\"line\":{\"color\":\"#E5ECF6\",\"width\":0.5},\"pattern\":{\"fillmode\":\"overlay\",\"size\":10,\"solidity\":0.2}},\"type\":\"bar\"}],\"scattergeo\":[{\"type\":\"scattergeo\",\"marker\":{\"colorbar\":{\"outlinewidth\":0,\"ticks\":\"\"}}}],\"scatterpolar\":[{\"type\":\"scatterpolar\",\"marker\":{\"colorbar\":{\"outlinewidth\":0,\"ticks\":\"\"}}}],\"histogram\":[{\"marker\":{\"pattern\":{\"fillmode\":\"overlay\",\"size\":10,\"solidity\":0.2}},\"type\":\"histogram\"}],\"scattergl\":[{\"type\":\"scattergl\",\"marker\":{\"colorbar\":{\"outlinewidth\":0,\"ticks\":\"\"}}}],\"scatter3d\":[{\"type\":\"scatter3d\",\"line\":{\"colorbar\":{\"outlinewidth\":0,\"ticks\":\"\"}},\"marker\":{\"colorbar\":{\"outlinewidth\":0,\"ticks\":\"\"}}}],\"scattermapbox\":[{\"type\":\"scattermapbox\",\"marker\":{\"colorbar\":{\"outlinewidth\":0,\"ticks\":\"\"}}}],\"scatterternary\":[{\"type\":\"scatterternary\",\"marker\":{\"colorbar\":{\"outlinewidth\":0,\"ticks\":\"\"}}}],\"scattercarpet\":[{\"type\":\"scattercarpet\",\"marker\":{\"colorbar\":{\"outlinewidth\":0,\"ticks\":\"\"}}}],\"carpet\":[{\"aaxis\":{\"endlinecolor\":\"#2a3f5f\",\"gridcolor\":\"white\",\"linecolor\":\"white\",\"minorgridcolor\":\"white\",\"startlinecolor\":\"#2a3f5f\"},\"baxis\":{\"endlinecolor\":\"#2a3f5f\",\"gridcolor\":\"white\",\"linecolor\":\"white\",\"minorgridcolor\":\"white\",\"startlinecolor\":\"#2a3f5f\"},\"type\":\"carpet\"}],\"table\":[{\"cells\":{\"fill\":{\"color\":\"#EBF0F8\"},\"line\":{\"color\":\"white\"}},\"header\":{\"fill\":{\"color\":\"#C8D4E3\"},\"line\":{\"color\":\"white\"}},\"type\":\"table\"}],\"barpolar\":[{\"marker\":{\"line\":{\"color\":\"#E5ECF6\",\"width\":0.5},\"pattern\":{\"fillmode\":\"overlay\",\"size\":10,\"solidity\":0.2}},\"type\":\"barpolar\"}],\"pie\":[{\"automargin\":true,\"type\":\"pie\"}]},\"layout\":{\"autotypenumbers\":\"strict\",\"colorway\":[\"#636efa\",\"#EF553B\",\"#00cc96\",\"#ab63fa\",\"#FFA15A\",\"#19d3f3\",\"#FF6692\",\"#B6E880\",\"#FF97FF\",\"#FECB52\"],\"font\":{\"color\":\"#2a3f5f\"},\"hovermode\":\"closest\",\"hoverlabel\":{\"align\":\"left\"},\"paper_bgcolor\":\"white\",\"plot_bgcolor\":\"#E5ECF6\",\"polar\":{\"bgcolor\":\"#E5ECF6\",\"angularaxis\":{\"gridcolor\":\"white\",\"linecolor\":\"white\",\"ticks\":\"\"},\"radialaxis\":{\"gridcolor\":\"white\",\"linecolor\":\"white\",\"ticks\":\"\"}},\"ternary\":{\"bgcolor\":\"#E5ECF6\",\"aaxis\":{\"gridcolor\":\"white\",\"linecolor\":\"white\",\"ticks\":\"\"},\"baxis\":{\"gridcolor\":\"white\",\"linecolor\":\"white\",\"ticks\":\"\"},\"caxis\":{\"gridcolor\":\"white\",\"linecolor\":\"white\",\"ticks\":\"\"}},\"coloraxis\":{\"colorbar\":{\"outlinewidth\":0,\"ticks\":\"\"}},\"colorscale\":{\"sequential\":[[0.0,\"#0d0887\"],[0.1111111111111111,\"#46039f\"],[0.2222222222222222,\"#7201a8\"],[0.3333333333333333,\"#9c179e\"],[0.4444444444444444,\"#bd3786\"],[0.5555555555555556,\"#d8576b\"],[0.6666666666666666,\"#ed7953\"],[0.7777777777777778,\"#fb9f3a\"],[0.8888888888888888,\"#fdca26\"],[1.0,\"#f0f921\"]],\"sequentialminus\":[[0.0,\"#0d0887\"],[0.1111111111111111,\"#46039f\"],[0.2222222222222222,\"#7201a8\"],[0.3333333333333333,\"#9c179e\"],[0.4444444444444444,\"#bd3786\"],[0.5555555555555556,\"#d8576b\"],[0.6666666666666666,\"#ed7953\"],[0.7777777777777778,\"#fb9f3a\"],[0.8888888888888888,\"#fdca26\"],[1.0,\"#f0f921\"]],\"diverging\":[[0,\"#8e0152\"],[0.1,\"#c51b7d\"],[0.2,\"#de77ae\"],[0.3,\"#f1b6da\"],[0.4,\"#fde0ef\"],[0.5,\"#f7f7f7\"],[0.6,\"#e6f5d0\"],[0.7,\"#b8e186\"],[0.8,\"#7fbc41\"],[0.9,\"#4d9221\"],[1,\"#276419\"]]},\"xaxis\":{\"gridcolor\":\"white\",\"linecolor\":\"white\",\"ticks\":\"\",\"title\":{\"standoff\":15},\"zerolinecolor\":\"white\",\"automargin\":true,\"zerolinewidth\":2},\"yaxis\":{\"gridcolor\":\"white\",\"linecolor\":\"white\",\"ticks\":\"\",\"title\":{\"standoff\":15},\"zerolinecolor\":\"white\",\"automargin\":true,\"zerolinewidth\":2},\"scene\":{\"xaxis\":{\"backgroundcolor\":\"#E5ECF6\",\"gridcolor\":\"white\",\"linecolor\":\"white\",\"showbackground\":true,\"ticks\":\"\",\"zerolinecolor\":\"white\",\"gridwidth\":2},\"yaxis\":{\"backgroundcolor\":\"#E5ECF6\",\"gridcolor\":\"white\",\"linecolor\":\"white\",\"showbackground\":true,\"ticks\":\"\",\"zerolinecolor\":\"white\",\"gridwidth\":2},\"zaxis\":{\"backgroundcolor\":\"#E5ECF6\",\"gridcolor\":\"white\",\"linecolor\":\"white\",\"showbackground\":true,\"ticks\":\"\",\"zerolinecolor\":\"white\",\"gridwidth\":2}},\"shapedefaults\":{\"line\":{\"color\":\"#2a3f5f\"}},\"annotationdefaults\":{\"arrowcolor\":\"#2a3f5f\",\"arrowhead\":0,\"arrowwidth\":1},\"geo\":{\"bgcolor\":\"white\",\"landcolor\":\"#E5ECF6\",\"subunitcolor\":\"white\",\"showland\":true,\"showlakes\":true,\"lakecolor\":\"white\"},\"title\":{\"x\":0.05},\"mapbox\":{\"style\":\"light\"}}},\"legend\":{\"tracegroupgap\":0},\"title\":{\"text\":\"Distribution of Genres by Content Type\"},\"height\":500,\"width\":500},                        {\"responsive\": true}                    ).then(function(){\n",
       "                            \n",
       "var gd = document.getElementById('51e6733a-8189-42b2-b392-792252087db9');\n",
       "var x = new MutationObserver(function (mutations, observer) {{\n",
       "        var display = window.getComputedStyle(gd).display;\n",
       "        if (!display || display === 'none') {{\n",
       "            console.log([gd, 'removed!']);\n",
       "            Plotly.purge(gd);\n",
       "            observer.disconnect();\n",
       "        }}\n",
       "}});\n",
       "\n",
       "// Listen for the removal of the full notebook cells\n",
       "var notebookContainer = gd.closest('#notebook-container');\n",
       "if (notebookContainer) {{\n",
       "    x.observe(notebookContainer, {childList: true});\n",
       "}}\n",
       "\n",
       "// Listen for the clearing of the current output cell\n",
       "var outputEl = gd.closest('.output');\n",
       "if (outputEl) {{\n",
       "    x.observe(outputEl, {childList: true});\n",
       "}}\n",
       "\n",
       "                        })                };                });            </script>        </div>"
      ]
     },
     "metadata": {},
     "output_type": "display_data"
    }
   ],
   "source": [
    "# Sunburst char for the distribution of genres by content type.\n",
    "sunburst_df = df[['genres', 'type']]\n",
    "\n",
    "fig = px.sunburst(sunburst_df, path=['type', 'genres'], title=\"Distribution of Genres by Content Type\",  \n",
    "                  color='type', color_discrete_map={'Movie': 'teal','TV Show': 'salmon'}, width=500, height=500)\n",
    "\n",
    "fig.show()"
   ]
  },
  {
   "cell_type": "markdown",
   "id": "5619d608-077b-4ce5-a2ae-68d8dff432ba",
   "metadata": {},
   "source": [
    "### Encoding Categorical Features"
   ]
  },
  {
   "cell_type": "markdown",
   "id": "06f0ed9a-bb19-45aa-8789-a86f11575a91",
   "metadata": {},
   "source": [
    "**Categorical Columns to encode and which type of econding I will be using next:**.\n",
    "\n",
    "- *type* (Movie, TV Show) : one-hot encoding , since there is only a few categories and theres is not a sequence\n",
    "- *genres* (Drama, Comedy, etc.) : one-hote encoding, there is no pattern within this column\n",
    "- *starts* (actors names) : laben encoding, there is many diferent names\n",
    "- *original* (Yes/No) : label encoding, there is only two values, binary category\n",
    "- *titles and description* : will remain the same as they are unique values and they are not of primary relevance for the analysis"
   ]
  },
  {
   "cell_type": "code",
   "execution_count": 164,
   "id": "229065a2-27ee-46e8-aa48-a255a0dad63f",
   "metadata": {},
   "outputs": [
    {
     "data": {
      "text/html": [
       "<div>\n",
       "<style scoped>\n",
       "    .dataframe tbody tr th:only-of-type {\n",
       "        vertical-align: middle;\n",
       "    }\n",
       "\n",
       "    .dataframe tbody tr th {\n",
       "        vertical-align: top;\n",
       "    }\n",
       "\n",
       "    .dataframe thead th {\n",
       "        text-align: right;\n",
       "    }\n",
       "</style>\n",
       "<table border=\"1\" class=\"dataframe\">\n",
       "  <thead>\n",
       "    <tr style=\"text-align: right;\">\n",
       "      <th></th>\n",
       "      <th>Movie</th>\n",
       "      <th>TV Show</th>\n",
       "    </tr>\n",
       "  </thead>\n",
       "  <tbody>\n",
       "    <tr>\n",
       "      <th>0</th>\n",
       "      <td>0</td>\n",
       "      <td>1</td>\n",
       "    </tr>\n",
       "    <tr>\n",
       "      <th>1</th>\n",
       "      <td>0</td>\n",
       "      <td>1</td>\n",
       "    </tr>\n",
       "    <tr>\n",
       "      <th>2</th>\n",
       "      <td>0</td>\n",
       "      <td>1</td>\n",
       "    </tr>\n",
       "    <tr>\n",
       "      <th>3</th>\n",
       "      <td>0</td>\n",
       "      <td>1</td>\n",
       "    </tr>\n",
       "    <tr>\n",
       "      <th>4</th>\n",
       "      <td>0</td>\n",
       "      <td>1</td>\n",
       "    </tr>\n",
       "    <tr>\n",
       "      <th>...</th>\n",
       "      <td>...</td>\n",
       "      <td>...</td>\n",
       "    </tr>\n",
       "    <tr>\n",
       "      <th>1512</th>\n",
       "      <td>1</td>\n",
       "      <td>0</td>\n",
       "    </tr>\n",
       "    <tr>\n",
       "      <th>1513</th>\n",
       "      <td>1</td>\n",
       "      <td>0</td>\n",
       "    </tr>\n",
       "    <tr>\n",
       "      <th>1514</th>\n",
       "      <td>1</td>\n",
       "      <td>0</td>\n",
       "    </tr>\n",
       "    <tr>\n",
       "      <th>1515</th>\n",
       "      <td>1</td>\n",
       "      <td>0</td>\n",
       "    </tr>\n",
       "    <tr>\n",
       "      <th>1516</th>\n",
       "      <td>1</td>\n",
       "      <td>0</td>\n",
       "    </tr>\n",
       "  </tbody>\n",
       "</table>\n",
       "<p>1517 rows × 2 columns</p>\n",
       "</div>"
      ],
      "text/plain": [
       "      Movie  TV Show\n",
       "0         0        1\n",
       "1         0        1\n",
       "2         0        1\n",
       "3         0        1\n",
       "4         0        1\n",
       "...     ...      ...\n",
       "1512      1        0\n",
       "1513      1        0\n",
       "1514      1        0\n",
       "1515      1        0\n",
       "1516      1        0\n",
       "\n",
       "[1517 rows x 2 columns]"
      ]
     },
     "execution_count": 164,
     "metadata": {},
     "output_type": "execute_result"
    }
   ],
   "source": [
    "# one-hot encoding (type)\n",
    "type_encoding = pd.get_dummies(df['type']).astype(int)\n",
    "type_encoding"
   ]
  },
  {
   "cell_type": "code",
   "execution_count": 166,
   "id": "8095617e-61d6-41d8-9022-7665ecfe5635",
   "metadata": {},
   "outputs": [
    {
     "data": {
      "text/html": [
       "<div>\n",
       "<style scoped>\n",
       "    .dataframe tbody tr th:only-of-type {\n",
       "        vertical-align: middle;\n",
       "    }\n",
       "\n",
       "    .dataframe tbody tr th {\n",
       "        vertical-align: top;\n",
       "    }\n",
       "\n",
       "    .dataframe thead th {\n",
       "        text-align: right;\n",
       "    }\n",
       "</style>\n",
       "<table border=\"1\" class=\"dataframe\">\n",
       "  <thead>\n",
       "    <tr style=\"text-align: right;\">\n",
       "      <th></th>\n",
       "      <th>Action</th>\n",
       "      <th>Adventure</th>\n",
       "      <th>Animation</th>\n",
       "      <th>Biography</th>\n",
       "      <th>Comedy</th>\n",
       "      <th>Crime</th>\n",
       "      <th>Documentary</th>\n",
       "      <th>Drama</th>\n",
       "      <th>Family</th>\n",
       "      <th>Fantasy</th>\n",
       "      <th>...</th>\n",
       "      <th>Music</th>\n",
       "      <th>Musical</th>\n",
       "      <th>Mystery</th>\n",
       "      <th>Reality-TV</th>\n",
       "      <th>Romance</th>\n",
       "      <th>Sci-Fi</th>\n",
       "      <th>Short</th>\n",
       "      <th>Sport</th>\n",
       "      <th>Talk-Show</th>\n",
       "      <th>Thriller</th>\n",
       "    </tr>\n",
       "  </thead>\n",
       "  <tbody>\n",
       "    <tr>\n",
       "      <th>0</th>\n",
       "      <td>0</td>\n",
       "      <td>0</td>\n",
       "      <td>0</td>\n",
       "      <td>0</td>\n",
       "      <td>0</td>\n",
       "      <td>0</td>\n",
       "      <td>0</td>\n",
       "      <td>0</td>\n",
       "      <td>0</td>\n",
       "      <td>0</td>\n",
       "      <td>...</td>\n",
       "      <td>0</td>\n",
       "      <td>0</td>\n",
       "      <td>0</td>\n",
       "      <td>1</td>\n",
       "      <td>0</td>\n",
       "      <td>0</td>\n",
       "      <td>0</td>\n",
       "      <td>0</td>\n",
       "      <td>0</td>\n",
       "      <td>0</td>\n",
       "    </tr>\n",
       "    <tr>\n",
       "      <th>1</th>\n",
       "      <td>0</td>\n",
       "      <td>0</td>\n",
       "      <td>0</td>\n",
       "      <td>0</td>\n",
       "      <td>1</td>\n",
       "      <td>0</td>\n",
       "      <td>0</td>\n",
       "      <td>0</td>\n",
       "      <td>0</td>\n",
       "      <td>0</td>\n",
       "      <td>...</td>\n",
       "      <td>0</td>\n",
       "      <td>0</td>\n",
       "      <td>0</td>\n",
       "      <td>0</td>\n",
       "      <td>0</td>\n",
       "      <td>0</td>\n",
       "      <td>0</td>\n",
       "      <td>0</td>\n",
       "      <td>0</td>\n",
       "      <td>0</td>\n",
       "    </tr>\n",
       "    <tr>\n",
       "      <th>2</th>\n",
       "      <td>0</td>\n",
       "      <td>0</td>\n",
       "      <td>0</td>\n",
       "      <td>0</td>\n",
       "      <td>0</td>\n",
       "      <td>1</td>\n",
       "      <td>0</td>\n",
       "      <td>0</td>\n",
       "      <td>0</td>\n",
       "      <td>0</td>\n",
       "      <td>...</td>\n",
       "      <td>0</td>\n",
       "      <td>0</td>\n",
       "      <td>0</td>\n",
       "      <td>0</td>\n",
       "      <td>0</td>\n",
       "      <td>0</td>\n",
       "      <td>0</td>\n",
       "      <td>0</td>\n",
       "      <td>0</td>\n",
       "      <td>0</td>\n",
       "    </tr>\n",
       "    <tr>\n",
       "      <th>3</th>\n",
       "      <td>0</td>\n",
       "      <td>1</td>\n",
       "      <td>0</td>\n",
       "      <td>0</td>\n",
       "      <td>0</td>\n",
       "      <td>0</td>\n",
       "      <td>0</td>\n",
       "      <td>0</td>\n",
       "      <td>0</td>\n",
       "      <td>0</td>\n",
       "      <td>...</td>\n",
       "      <td>0</td>\n",
       "      <td>0</td>\n",
       "      <td>0</td>\n",
       "      <td>0</td>\n",
       "      <td>0</td>\n",
       "      <td>0</td>\n",
       "      <td>0</td>\n",
       "      <td>0</td>\n",
       "      <td>0</td>\n",
       "      <td>0</td>\n",
       "    </tr>\n",
       "    <tr>\n",
       "      <th>4</th>\n",
       "      <td>0</td>\n",
       "      <td>0</td>\n",
       "      <td>0</td>\n",
       "      <td>0</td>\n",
       "      <td>0</td>\n",
       "      <td>1</td>\n",
       "      <td>0</td>\n",
       "      <td>0</td>\n",
       "      <td>0</td>\n",
       "      <td>0</td>\n",
       "      <td>...</td>\n",
       "      <td>0</td>\n",
       "      <td>0</td>\n",
       "      <td>0</td>\n",
       "      <td>0</td>\n",
       "      <td>0</td>\n",
       "      <td>0</td>\n",
       "      <td>0</td>\n",
       "      <td>0</td>\n",
       "      <td>0</td>\n",
       "      <td>0</td>\n",
       "    </tr>\n",
       "    <tr>\n",
       "      <th>...</th>\n",
       "      <td>...</td>\n",
       "      <td>...</td>\n",
       "      <td>...</td>\n",
       "      <td>...</td>\n",
       "      <td>...</td>\n",
       "      <td>...</td>\n",
       "      <td>...</td>\n",
       "      <td>...</td>\n",
       "      <td>...</td>\n",
       "      <td>...</td>\n",
       "      <td>...</td>\n",
       "      <td>...</td>\n",
       "      <td>...</td>\n",
       "      <td>...</td>\n",
       "      <td>...</td>\n",
       "      <td>...</td>\n",
       "      <td>...</td>\n",
       "      <td>...</td>\n",
       "      <td>...</td>\n",
       "      <td>...</td>\n",
       "      <td>...</td>\n",
       "    </tr>\n",
       "    <tr>\n",
       "      <th>1512</th>\n",
       "      <td>0</td>\n",
       "      <td>0</td>\n",
       "      <td>0</td>\n",
       "      <td>0</td>\n",
       "      <td>1</td>\n",
       "      <td>0</td>\n",
       "      <td>0</td>\n",
       "      <td>0</td>\n",
       "      <td>0</td>\n",
       "      <td>0</td>\n",
       "      <td>...</td>\n",
       "      <td>0</td>\n",
       "      <td>0</td>\n",
       "      <td>0</td>\n",
       "      <td>0</td>\n",
       "      <td>0</td>\n",
       "      <td>0</td>\n",
       "      <td>0</td>\n",
       "      <td>0</td>\n",
       "      <td>0</td>\n",
       "      <td>0</td>\n",
       "    </tr>\n",
       "    <tr>\n",
       "      <th>1513</th>\n",
       "      <td>0</td>\n",
       "      <td>0</td>\n",
       "      <td>0</td>\n",
       "      <td>0</td>\n",
       "      <td>1</td>\n",
       "      <td>0</td>\n",
       "      <td>0</td>\n",
       "      <td>0</td>\n",
       "      <td>0</td>\n",
       "      <td>0</td>\n",
       "      <td>...</td>\n",
       "      <td>0</td>\n",
       "      <td>0</td>\n",
       "      <td>0</td>\n",
       "      <td>0</td>\n",
       "      <td>0</td>\n",
       "      <td>0</td>\n",
       "      <td>0</td>\n",
       "      <td>0</td>\n",
       "      <td>0</td>\n",
       "      <td>0</td>\n",
       "    </tr>\n",
       "    <tr>\n",
       "      <th>1514</th>\n",
       "      <td>0</td>\n",
       "      <td>0</td>\n",
       "      <td>0</td>\n",
       "      <td>0</td>\n",
       "      <td>1</td>\n",
       "      <td>0</td>\n",
       "      <td>0</td>\n",
       "      <td>0</td>\n",
       "      <td>0</td>\n",
       "      <td>0</td>\n",
       "      <td>...</td>\n",
       "      <td>0</td>\n",
       "      <td>0</td>\n",
       "      <td>0</td>\n",
       "      <td>0</td>\n",
       "      <td>0</td>\n",
       "      <td>0</td>\n",
       "      <td>0</td>\n",
       "      <td>0</td>\n",
       "      <td>0</td>\n",
       "      <td>0</td>\n",
       "    </tr>\n",
       "    <tr>\n",
       "      <th>1515</th>\n",
       "      <td>0</td>\n",
       "      <td>0</td>\n",
       "      <td>0</td>\n",
       "      <td>0</td>\n",
       "      <td>1</td>\n",
       "      <td>0</td>\n",
       "      <td>0</td>\n",
       "      <td>0</td>\n",
       "      <td>0</td>\n",
       "      <td>0</td>\n",
       "      <td>...</td>\n",
       "      <td>0</td>\n",
       "      <td>0</td>\n",
       "      <td>0</td>\n",
       "      <td>0</td>\n",
       "      <td>0</td>\n",
       "      <td>0</td>\n",
       "      <td>0</td>\n",
       "      <td>0</td>\n",
       "      <td>0</td>\n",
       "      <td>0</td>\n",
       "    </tr>\n",
       "    <tr>\n",
       "      <th>1516</th>\n",
       "      <td>0</td>\n",
       "      <td>0</td>\n",
       "      <td>0</td>\n",
       "      <td>0</td>\n",
       "      <td>0</td>\n",
       "      <td>0</td>\n",
       "      <td>1</td>\n",
       "      <td>0</td>\n",
       "      <td>0</td>\n",
       "      <td>0</td>\n",
       "      <td>...</td>\n",
       "      <td>0</td>\n",
       "      <td>0</td>\n",
       "      <td>0</td>\n",
       "      <td>0</td>\n",
       "      <td>0</td>\n",
       "      <td>0</td>\n",
       "      <td>0</td>\n",
       "      <td>0</td>\n",
       "      <td>0</td>\n",
       "      <td>0</td>\n",
       "    </tr>\n",
       "  </tbody>\n",
       "</table>\n",
       "<p>1517 rows × 23 columns</p>\n",
       "</div>"
      ],
      "text/plain": [
       "      Action  Adventure  Animation  Biography  Comedy  Crime  Documentary  \\\n",
       "0          0          0          0          0       0      0            0   \n",
       "1          0          0          0          0       1      0            0   \n",
       "2          0          0          0          0       0      1            0   \n",
       "3          0          1          0          0       0      0            0   \n",
       "4          0          0          0          0       0      1            0   \n",
       "...      ...        ...        ...        ...     ...    ...          ...   \n",
       "1512       0          0          0          0       1      0            0   \n",
       "1513       0          0          0          0       1      0            0   \n",
       "1514       0          0          0          0       1      0            0   \n",
       "1515       0          0          0          0       1      0            0   \n",
       "1516       0          0          0          0       0      0            1   \n",
       "\n",
       "      Drama  Family  Fantasy  ...  Music  Musical  Mystery  Reality-TV  \\\n",
       "0         0       0        0  ...      0        0        0           1   \n",
       "1         0       0        0  ...      0        0        0           0   \n",
       "2         0       0        0  ...      0        0        0           0   \n",
       "3         0       0        0  ...      0        0        0           0   \n",
       "4         0       0        0  ...      0        0        0           0   \n",
       "...     ...     ...      ...  ...    ...      ...      ...         ...   \n",
       "1512      0       0        0  ...      0        0        0           0   \n",
       "1513      0       0        0  ...      0        0        0           0   \n",
       "1514      0       0        0  ...      0        0        0           0   \n",
       "1515      0       0        0  ...      0        0        0           0   \n",
       "1516      0       0        0  ...      0        0        0           0   \n",
       "\n",
       "      Romance  Sci-Fi  Short  Sport  Talk-Show  Thriller  \n",
       "0           0       0      0      0          0         0  \n",
       "1           0       0      0      0          0         0  \n",
       "2           0       0      0      0          0         0  \n",
       "3           0       0      0      0          0         0  \n",
       "4           0       0      0      0          0         0  \n",
       "...       ...     ...    ...    ...        ...       ...  \n",
       "1512        0       0      0      0          0         0  \n",
       "1513        0       0      0      0          0         0  \n",
       "1514        0       0      0      0          0         0  \n",
       "1515        0       0      0      0          0         0  \n",
       "1516        0       0      0      0          0         0  \n",
       "\n",
       "[1517 rows x 23 columns]"
      ]
     },
     "execution_count": 166,
     "metadata": {},
     "output_type": "execute_result"
    }
   ],
   "source": [
    "# one-hot encoding (genres)\n",
    "genres_encoding = pd.get_dummies(df['genres']).astype(int)\n",
    "genres_encoding"
   ]
  },
  {
   "cell_type": "code",
   "execution_count": 168,
   "id": "fbf43b7b-6b44-4e17-be69-fc022ff195b3",
   "metadata": {},
   "outputs": [
    {
     "data": {
      "text/plain": [
       "array([ 461, 1127,    7, ..., 1228,    5, 1045])"
      ]
     },
     "execution_count": 168,
     "metadata": {},
     "output_type": "execute_result"
    }
   ],
   "source": [
    "# label encoding (starts)\n",
    "le = LabelEncoder()\n",
    "\n",
    "stars_encoding = le.fit_transform(df['stars'])\n",
    "stars_encoding"
   ]
  },
  {
   "cell_type": "code",
   "execution_count": 172,
   "id": "e0a3d424-b336-490e-89be-61e9116ef907",
   "metadata": {},
   "outputs": [
    {
     "data": {
      "text/plain": [
       "array([0, 0, 0, ..., 0, 0, 0])"
      ]
     },
     "execution_count": 172,
     "metadata": {},
     "output_type": "execute_result"
    }
   ],
   "source": [
    "# label encoding (original)\n",
    "le = LabelEncoder()\n",
    "\n",
    "original_encoding = le.fit_transform(df['original'])\n",
    "original_encoding"
   ]
  },
  {
   "cell_type": "code",
   "execution_count": 173,
   "id": "4d871dba-2bbb-4b3c-966f-d161a4e70d99",
   "metadata": {},
   "outputs": [
    {
     "data": {
      "text/html": [
       "<div>\n",
       "<style scoped>\n",
       "    .dataframe tbody tr th:only-of-type {\n",
       "        vertical-align: middle;\n",
       "    }\n",
       "\n",
       "    .dataframe tbody tr th {\n",
       "        vertical-align: top;\n",
       "    }\n",
       "\n",
       "    .dataframe thead th {\n",
       "        text-align: right;\n",
       "    }\n",
       "</style>\n",
       "<table border=\"1\" class=\"dataframe\">\n",
       "  <thead>\n",
       "    <tr style=\"text-align: right;\">\n",
       "      <th></th>\n",
       "      <th>titles</th>\n",
       "      <th>years</th>\n",
       "      <th>imdb</th>\n",
       "      <th>runtime</th>\n",
       "      <th>description</th>\n",
       "      <th>stars</th>\n",
       "      <th>votes</th>\n",
       "      <th>original</th>\n",
       "      <th>type_Movie</th>\n",
       "      <th>type_TV Show</th>\n",
       "      <th>...</th>\n",
       "      <th>genres_Music</th>\n",
       "      <th>genres_Musical</th>\n",
       "      <th>genres_Mystery</th>\n",
       "      <th>genres_Reality-TV</th>\n",
       "      <th>genres_Romance</th>\n",
       "      <th>genres_Sci-Fi</th>\n",
       "      <th>genres_Short</th>\n",
       "      <th>genres_Sport</th>\n",
       "      <th>genres_Talk-Show</th>\n",
       "      <th>genres_Thriller</th>\n",
       "    </tr>\n",
       "  </thead>\n",
       "  <tbody>\n",
       "    <tr>\n",
       "      <th>0</th>\n",
       "      <td>Zumbo's Just Desserts</td>\n",
       "      <td>2016</td>\n",
       "      <td>6.9</td>\n",
       "      <td>52.000000</td>\n",
       "      <td>Amateur Australian chefs compete to impress pa...</td>\n",
       "      <td>461</td>\n",
       "      <td>393.6814</td>\n",
       "      <td>0</td>\n",
       "      <td>False</td>\n",
       "      <td>True</td>\n",
       "      <td>...</td>\n",
       "      <td>False</td>\n",
       "      <td>False</td>\n",
       "      <td>False</td>\n",
       "      <td>True</td>\n",
       "      <td>False</td>\n",
       "      <td>False</td>\n",
       "      <td>False</td>\n",
       "      <td>False</td>\n",
       "      <td>False</td>\n",
       "      <td>False</td>\n",
       "    </tr>\n",
       "    <tr>\n",
       "      <th>1</th>\n",
       "      <td>Zona Rosa</td>\n",
       "      <td>2019</td>\n",
       "      <td>6.0</td>\n",
       "      <td>74.471003</td>\n",
       "      <td>Add a Plot</td>\n",
       "      <td>1127</td>\n",
       "      <td>33.0000</td>\n",
       "      <td>0</td>\n",
       "      <td>False</td>\n",
       "      <td>True</td>\n",
       "      <td>...</td>\n",
       "      <td>False</td>\n",
       "      <td>False</td>\n",
       "      <td>False</td>\n",
       "      <td>False</td>\n",
       "      <td>False</td>\n",
       "      <td>False</td>\n",
       "      <td>False</td>\n",
       "      <td>False</td>\n",
       "      <td>False</td>\n",
       "      <td>False</td>\n",
       "    </tr>\n",
       "    <tr>\n",
       "      <th>2</th>\n",
       "      <td>Young Wallander</td>\n",
       "      <td>2020</td>\n",
       "      <td>6.7</td>\n",
       "      <td>74.471003</td>\n",
       "      <td>Follow recently graduated police officer Kurt ...</td>\n",
       "      <td>7</td>\n",
       "      <td>393.6814</td>\n",
       "      <td>0</td>\n",
       "      <td>False</td>\n",
       "      <td>True</td>\n",
       "      <td>...</td>\n",
       "      <td>False</td>\n",
       "      <td>False</td>\n",
       "      <td>False</td>\n",
       "      <td>False</td>\n",
       "      <td>False</td>\n",
       "      <td>False</td>\n",
       "      <td>False</td>\n",
       "      <td>False</td>\n",
       "      <td>False</td>\n",
       "      <td>False</td>\n",
       "    </tr>\n",
       "    <tr>\n",
       "      <th>3</th>\n",
       "      <td>You vs. Wild</td>\n",
       "      <td>2019</td>\n",
       "      <td>6.7</td>\n",
       "      <td>20.000000</td>\n",
       "      <td>In this interactive series, you'll make key de...</td>\n",
       "      <td>125</td>\n",
       "      <td>393.6814</td>\n",
       "      <td>0</td>\n",
       "      <td>False</td>\n",
       "      <td>True</td>\n",
       "      <td>...</td>\n",
       "      <td>False</td>\n",
       "      <td>False</td>\n",
       "      <td>False</td>\n",
       "      <td>False</td>\n",
       "      <td>False</td>\n",
       "      <td>False</td>\n",
       "      <td>False</td>\n",
       "      <td>False</td>\n",
       "      <td>False</td>\n",
       "      <td>False</td>\n",
       "    </tr>\n",
       "    <tr>\n",
       "      <th>4</th>\n",
       "      <td>You</td>\n",
       "      <td>2018</td>\n",
       "      <td>7.8</td>\n",
       "      <td>45.000000</td>\n",
       "      <td>A dangerously charming, intensely obsessive yo...</td>\n",
       "      <td>1086</td>\n",
       "      <td>393.6814</td>\n",
       "      <td>0</td>\n",
       "      <td>False</td>\n",
       "      <td>True</td>\n",
       "      <td>...</td>\n",
       "      <td>False</td>\n",
       "      <td>False</td>\n",
       "      <td>False</td>\n",
       "      <td>False</td>\n",
       "      <td>False</td>\n",
       "      <td>False</td>\n",
       "      <td>False</td>\n",
       "      <td>False</td>\n",
       "      <td>False</td>\n",
       "      <td>False</td>\n",
       "    </tr>\n",
       "  </tbody>\n",
       "</table>\n",
       "<p>5 rows × 33 columns</p>\n",
       "</div>"
      ],
      "text/plain": [
       "                  titles  years  imdb    runtime  \\\n",
       "0  Zumbo's Just Desserts   2016   6.9  52.000000   \n",
       "1              Zona Rosa   2019   6.0  74.471003   \n",
       "2        Young Wallander   2020   6.7  74.471003   \n",
       "3           You vs. Wild   2019   6.7  20.000000   \n",
       "4                    You   2018   7.8  45.000000   \n",
       "\n",
       "                                         description  stars     votes  \\\n",
       "0  Amateur Australian chefs compete to impress pa...    461  393.6814   \n",
       "1                                         Add a Plot   1127   33.0000   \n",
       "2  Follow recently graduated police officer Kurt ...      7  393.6814   \n",
       "3  In this interactive series, you'll make key de...    125  393.6814   \n",
       "4  A dangerously charming, intensely obsessive yo...   1086  393.6814   \n",
       "\n",
       "   original  type_Movie  type_TV Show  ...  genres_Music  genres_Musical  \\\n",
       "0         0       False          True  ...         False           False   \n",
       "1         0       False          True  ...         False           False   \n",
       "2         0       False          True  ...         False           False   \n",
       "3         0       False          True  ...         False           False   \n",
       "4         0       False          True  ...         False           False   \n",
       "\n",
       "   genres_Mystery  genres_Reality-TV  genres_Romance  genres_Sci-Fi  \\\n",
       "0           False               True           False          False   \n",
       "1           False              False           False          False   \n",
       "2           False              False           False          False   \n",
       "3           False              False           False          False   \n",
       "4           False              False           False          False   \n",
       "\n",
       "   genres_Short  genres_Sport  genres_Talk-Show  genres_Thriller  \n",
       "0         False         False             False            False  \n",
       "1         False         False             False            False  \n",
       "2         False         False             False            False  \n",
       "3         False         False             False            False  \n",
       "4         False         False             False            False  \n",
       "\n",
       "[5 rows x 33 columns]"
      ]
     },
     "execution_count": 173,
     "metadata": {},
     "output_type": "execute_result"
    }
   ],
   "source": [
    "# encoding every categorical column within the dataframe\n",
    "le = LabelEncoder()\n",
    "\n",
    "df['stars'] = le.fit_transform(df['stars'])\n",
    "df['original'] = le.fit_transform(df['original'])\n",
    "df = pd.get_dummies(df, columns=['type', 'genres'])\n",
    "\n",
    "df.head()"
   ]
  },
  {
   "cell_type": "markdown",
   "id": "bb3f5b54-d4fc-4830-be53-37ed4477d14c",
   "metadata": {},
   "source": [
    "#### Indentifying Outliers"
   ]
  },
  {
   "cell_type": "code",
   "execution_count": 187,
   "id": "68f6f3b4-34ff-43af-bbc8-f78337b06cc9",
   "metadata": {},
   "outputs": [
    {
     "data": {
      "image/png": "[encoded data removed]",
      "text/plain": [
       "<Figure size 1200x600 with 1 Axes>"
      ]
     },
     "metadata": {},
     "output_type": "display_data"
    },
    {
     "name": "stdout",
     "output_type": "stream",
     "text": [
      "Outliers per column:\n",
      " imdb        18\n",
      "runtime     46\n",
      "votes      543\n",
      "dtype: int64\n"
     ]
    }
   ],
   "source": [
    "# numerical columns\n",
    "numerical_cols = ['imdb', 'runtime', 'votes']\n",
    "\n",
    "# box plot \n",
    "plt.figure(figsize=(12, 6))\n",
    "df[numerical_cols].boxplot()\n",
    "plt.title(\"Boxplot of Numerical Columns\")\n",
    "plt.show()\n",
    "\n",
    "# Identificar cuántos outliers hay por columna\n",
    "outliers = ((df[numerical_cols] < lower_bound) | (df[numerical_cols] > upper_bound)).sum()\n",
    "print(\"Outliers per column:\\n\", outliers)\n"
   ]
  },
  {
   "cell_type": "markdown",
   "id": "02780a3a-3865-4ece-acf6-504bac307dee",
   "metadata": {},
   "source": [
    "*Since there is a few amount of outliers in Runtime(46 values) and in Imdb(18) I am opting for deliting them.\n",
    "In the case of Votes, the outliers represent the 35.8% of the total values, so I will be replacing them with the median value instead*"
   ]
  },
  {
   "cell_type": "code",
   "execution_count": 195,
   "id": "6c467dc6-6346-480a-8403-0cc0a419f807",
   "metadata": {},
   "outputs": [
    {
     "name": "stdout",
     "output_type": "stream",
     "text": [
      "Data after removing outliers: (1453, 33)\n"
     ]
    }
   ],
   "source": [
    "# deliting outliers for imdb and runtime\n",
    "Q1 = df[['imdb', 'runtime']].quantile(0.25)\n",
    "Q3 = df[['imdb', 'runtime']].quantile(0.75)\n",
    "IQR = Q3 - Q1\n",
    "\n",
    "# Define the lower and upper thresholds\n",
    "lower_bound = Q1 - 1.5 * IQR\n",
    "upper_bound = Q3 + 1.5 * IQR\n",
    "\n",
    "# Filter out rows where imdb and runtime are outside these limits\n",
    "df = df[(df['imdb'] >= lower_bound['imdb']) & (df['imdb'] <= upper_bound['imdb'])]\n",
    "df = df[(df['runtime'] >= lower_bound['runtime']) & (df['runtime'] <= upper_bound['runtime'])]\n",
    "\n",
    "print(f\"Data after removing outliers: {df.shape}\")"
   ]
  },
  {
   "cell_type": "code",
   "execution_count": 199,
   "id": "b56edace-5fa5-4fc9-b3b9-d0d2e0dcd0c0",
   "metadata": {},
   "outputs": [
    {
     "name": "stdout",
     "output_type": "stream",
     "text": [
      "New values for outliers in 'votes': 393.6813996316759\n"
     ]
    }
   ],
   "source": [
    "# replacing outliers values for the median for votes\n",
    "Q1_votes = df['votes'].quantile(0.25)\n",
    "Q3_votes = df['votes'].quantile(0.75)\n",
    "IQR_votes = Q3_votes - Q1_votes\n",
    "\n",
    "# Define the lower and upper thresholds\n",
    "lower_bound_votes = Q1_votes - 1.5 * IQR_votes\n",
    "upper_bound_votes = Q3_votes + 1.5 * IQR_votes\n",
    "\n",
    "# Compute the median of votes\n",
    "median_votes = df['votes'].median()\n",
    "\n",
    "# Replace outliers with the median\n",
    "df['votes'] = df['votes'].apply(lambda x: median_votes if x < lower_bound_votes or x > upper_bound_votes else x)\n",
    "\n",
    "print(f\"New values for outliers in 'votes': {median_votes}\")"
   ]
  },
  {
   "cell_type": "markdown",
   "id": "07b646c4-3dbd-47b9-9d47-e9b3f6351067",
   "metadata": {},
   "source": [
    "#### Performing feature scaling techniques  *(StandardScaler, MinMaxScaler and RobustScaler)*"
   ]
  },
  {
   "cell_type": "code",
   "execution_count": 213,
   "id": "9ffd487c-f436-4d53-89cb-e2d3dc902ba3",
   "metadata": {},
   "outputs": [],
   "source": [
    "# Select only numerical columns for scaling\n",
    "num_cols = ['imdb', 'runtime', 'votes']\n",
    "\n",
    "# Initialize scalers\n",
    "standard_scaler = StandardScaler()\n",
    "minmax_scaler = MinMaxScaler()\n",
    "robust_scaler = RobustScaler()\n",
    "\n",
    "# Apply scalers\n",
    "df_standard = df.copy()\n",
    "df_standard[num_cols] = standard_scaler.fit_transform(df_standard[num_cols])\n",
    "\n",
    "df_minmax = df.copy()\n",
    "df_minmax[num_cols] = minmax_scaler.fit_transform(df_minmax[num_cols])\n",
    "\n",
    "df_robust = df.copy()\n",
    "df_robust[num_cols] = robust_scaler.fit_transform(df_robust[num_cols])\n"
   ]
  },
  {
   "cell_type": "code",
   "execution_count": 211,
   "id": "4a23266a-3995-4011-98c9-060d64d37864",
   "metadata": {},
   "outputs": [
    {
     "name": "stdout",
     "output_type": "stream",
     "text": [
      "StandardScaler:\n",
      "\n"
     ]
    },
    {
     "data": {
      "text/html": [
       "<div>\n",
       "<style scoped>\n",
       "    .dataframe tbody tr th:only-of-type {\n",
       "        vertical-align: middle;\n",
       "    }\n",
       "\n",
       "    .dataframe tbody tr th {\n",
       "        vertical-align: top;\n",
       "    }\n",
       "\n",
       "    .dataframe thead th {\n",
       "        text-align: right;\n",
       "    }\n",
       "</style>\n",
       "<table border=\"1\" class=\"dataframe\">\n",
       "  <thead>\n",
       "    <tr style=\"text-align: right;\">\n",
       "      <th></th>\n",
       "      <th>titles</th>\n",
       "      <th>years</th>\n",
       "      <th>imdb</th>\n",
       "      <th>runtime</th>\n",
       "      <th>description</th>\n",
       "      <th>stars</th>\n",
       "      <th>votes</th>\n",
       "      <th>original</th>\n",
       "      <th>type_Movie</th>\n",
       "      <th>type_TV Show</th>\n",
       "      <th>...</th>\n",
       "      <th>genres_Music</th>\n",
       "      <th>genres_Musical</th>\n",
       "      <th>genres_Mystery</th>\n",
       "      <th>genres_Reality-TV</th>\n",
       "      <th>genres_Romance</th>\n",
       "      <th>genres_Sci-Fi</th>\n",
       "      <th>genres_Short</th>\n",
       "      <th>genres_Sport</th>\n",
       "      <th>genres_Talk-Show</th>\n",
       "      <th>genres_Thriller</th>\n",
       "    </tr>\n",
       "  </thead>\n",
       "  <tbody>\n",
       "    <tr>\n",
       "      <th>0</th>\n",
       "      <td>Zumbo's Just Desserts</td>\n",
       "      <td>2016</td>\n",
       "      <td>0.197603</td>\n",
       "      <td>-0.525524</td>\n",
       "      <td>Amateur Australian chefs compete to impress pa...</td>\n",
       "      <td>461</td>\n",
       "      <td>1.136868e-13</td>\n",
       "      <td>0</td>\n",
       "      <td>False</td>\n",
       "      <td>True</td>\n",
       "      <td>...</td>\n",
       "      <td>False</td>\n",
       "      <td>False</td>\n",
       "      <td>False</td>\n",
       "      <td>True</td>\n",
       "      <td>False</td>\n",
       "      <td>False</td>\n",
       "      <td>False</td>\n",
       "      <td>False</td>\n",
       "      <td>False</td>\n",
       "      <td>False</td>\n",
       "    </tr>\n",
       "    <tr>\n",
       "      <th>1</th>\n",
       "      <td>Zona Rosa</td>\n",
       "      <td>2019</td>\n",
       "      <td>-0.678134</td>\n",
       "      <td>0.256470</td>\n",
       "      <td>Add a Plot</td>\n",
       "      <td>1127</td>\n",
       "      <td>1.136868e-13</td>\n",
       "      <td>0</td>\n",
       "      <td>False</td>\n",
       "      <td>True</td>\n",
       "      <td>...</td>\n",
       "      <td>False</td>\n",
       "      <td>False</td>\n",
       "      <td>False</td>\n",
       "      <td>False</td>\n",
       "      <td>False</td>\n",
       "      <td>False</td>\n",
       "      <td>False</td>\n",
       "      <td>False</td>\n",
       "      <td>False</td>\n",
       "      <td>False</td>\n",
       "    </tr>\n",
       "    <tr>\n",
       "      <th>2</th>\n",
       "      <td>Young Wallander</td>\n",
       "      <td>2020</td>\n",
       "      <td>0.002995</td>\n",
       "      <td>0.256470</td>\n",
       "      <td>Follow recently graduated police officer Kurt ...</td>\n",
       "      <td>7</td>\n",
       "      <td>1.136868e-13</td>\n",
       "      <td>0</td>\n",
       "      <td>False</td>\n",
       "      <td>True</td>\n",
       "      <td>...</td>\n",
       "      <td>False</td>\n",
       "      <td>False</td>\n",
       "      <td>False</td>\n",
       "      <td>False</td>\n",
       "      <td>False</td>\n",
       "      <td>False</td>\n",
       "      <td>False</td>\n",
       "      <td>False</td>\n",
       "      <td>False</td>\n",
       "      <td>False</td>\n",
       "    </tr>\n",
       "    <tr>\n",
       "      <th>3</th>\n",
       "      <td>You vs. Wild</td>\n",
       "      <td>2019</td>\n",
       "      <td>0.002995</td>\n",
       "      <td>-1.639127</td>\n",
       "      <td>In this interactive series, you'll make key de...</td>\n",
       "      <td>125</td>\n",
       "      <td>1.136868e-13</td>\n",
       "      <td>0</td>\n",
       "      <td>False</td>\n",
       "      <td>True</td>\n",
       "      <td>...</td>\n",
       "      <td>False</td>\n",
       "      <td>False</td>\n",
       "      <td>False</td>\n",
       "      <td>False</td>\n",
       "      <td>False</td>\n",
       "      <td>False</td>\n",
       "      <td>False</td>\n",
       "      <td>False</td>\n",
       "      <td>False</td>\n",
       "      <td>False</td>\n",
       "    </tr>\n",
       "    <tr>\n",
       "      <th>4</th>\n",
       "      <td>You</td>\n",
       "      <td>2018</td>\n",
       "      <td>1.073341</td>\n",
       "      <td>-0.769124</td>\n",
       "      <td>A dangerously charming, intensely obsessive yo...</td>\n",
       "      <td>1086</td>\n",
       "      <td>1.136868e-13</td>\n",
       "      <td>0</td>\n",
       "      <td>False</td>\n",
       "      <td>True</td>\n",
       "      <td>...</td>\n",
       "      <td>False</td>\n",
       "      <td>False</td>\n",
       "      <td>False</td>\n",
       "      <td>False</td>\n",
       "      <td>False</td>\n",
       "      <td>False</td>\n",
       "      <td>False</td>\n",
       "      <td>False</td>\n",
       "      <td>False</td>\n",
       "      <td>False</td>\n",
       "    </tr>\n",
       "  </tbody>\n",
       "</table>\n",
       "<p>5 rows × 33 columns</p>\n",
       "</div>"
      ],
      "text/plain": [
       "                  titles  years      imdb   runtime  \\\n",
       "0  Zumbo's Just Desserts   2016  0.197603 -0.525524   \n",
       "1              Zona Rosa   2019 -0.678134  0.256470   \n",
       "2        Young Wallander   2020  0.002995  0.256470   \n",
       "3           You vs. Wild   2019  0.002995 -1.639127   \n",
       "4                    You   2018  1.073341 -0.769124   \n",
       "\n",
       "                                         description  stars         votes  \\\n",
       "0  Amateur Australian chefs compete to impress pa...    461  1.136868e-13   \n",
       "1                                         Add a Plot   1127  1.136868e-13   \n",
       "2  Follow recently graduated police officer Kurt ...      7  1.136868e-13   \n",
       "3  In this interactive series, you'll make key de...    125  1.136868e-13   \n",
       "4  A dangerously charming, intensely obsessive yo...   1086  1.136868e-13   \n",
       "\n",
       "   original  type_Movie  type_TV Show  ...  genres_Music  genres_Musical  \\\n",
       "0         0       False          True  ...         False           False   \n",
       "1         0       False          True  ...         False           False   \n",
       "2         0       False          True  ...         False           False   \n",
       "3         0       False          True  ...         False           False   \n",
       "4         0       False          True  ...         False           False   \n",
       "\n",
       "   genres_Mystery  genres_Reality-TV  genres_Romance  genres_Sci-Fi  \\\n",
       "0           False               True           False          False   \n",
       "1           False              False           False          False   \n",
       "2           False              False           False          False   \n",
       "3           False              False           False          False   \n",
       "4           False              False           False          False   \n",
       "\n",
       "   genres_Short  genres_Sport  genres_Talk-Show  genres_Thriller  \n",
       "0         False         False             False            False  \n",
       "1         False         False             False            False  \n",
       "2         False         False             False            False  \n",
       "3         False         False             False            False  \n",
       "4         False         False             False            False  \n",
       "\n",
       "[5 rows x 33 columns]"
      ]
     },
     "execution_count": 211,
     "metadata": {},
     "output_type": "execute_result"
    }
   ],
   "source": [
    "print(\"StandardScaler:\\n\")\n",
    "df_standard.head()"
   ]
  },
  {
   "cell_type": "code",
   "execution_count": 217,
   "id": "d30b19df-49a6-46a2-a9ab-b2737748612a",
   "metadata": {},
   "outputs": [
    {
     "name": "stdout",
     "output_type": "stream",
     "text": [
      "MinMaxScaler:\n",
      "\n"
     ]
    },
    {
     "data": {
      "text/html": [
       "<div>\n",
       "<style scoped>\n",
       "    .dataframe tbody tr th:only-of-type {\n",
       "        vertical-align: middle;\n",
       "    }\n",
       "\n",
       "    .dataframe tbody tr th {\n",
       "        vertical-align: top;\n",
       "    }\n",
       "\n",
       "    .dataframe thead th {\n",
       "        text-align: right;\n",
       "    }\n",
       "</style>\n",
       "<table border=\"1\" class=\"dataframe\">\n",
       "  <thead>\n",
       "    <tr style=\"text-align: right;\">\n",
       "      <th></th>\n",
       "      <th>titles</th>\n",
       "      <th>years</th>\n",
       "      <th>imdb</th>\n",
       "      <th>runtime</th>\n",
       "      <th>description</th>\n",
       "      <th>stars</th>\n",
       "      <th>votes</th>\n",
       "      <th>original</th>\n",
       "      <th>type_Movie</th>\n",
       "      <th>type_TV Show</th>\n",
       "      <th>...</th>\n",
       "      <th>genres_Music</th>\n",
       "      <th>genres_Musical</th>\n",
       "      <th>genres_Mystery</th>\n",
       "      <th>genres_Reality-TV</th>\n",
       "      <th>genres_Romance</th>\n",
       "      <th>genres_Sci-Fi</th>\n",
       "      <th>genres_Short</th>\n",
       "      <th>genres_Sport</th>\n",
       "      <th>genres_Talk-Show</th>\n",
       "      <th>genres_Thriller</th>\n",
       "    </tr>\n",
       "  </thead>\n",
       "  <tbody>\n",
       "    <tr>\n",
       "      <th>0</th>\n",
       "      <td>Zumbo's Just Desserts</td>\n",
       "      <td>2016</td>\n",
       "      <td>0.576923</td>\n",
       "      <td>0.320000</td>\n",
       "      <td>Amateur Australian chefs compete to impress pa...</td>\n",
       "      <td>461</td>\n",
       "      <td>0.0</td>\n",
       "      <td>0</td>\n",
       "      <td>False</td>\n",
       "      <td>True</td>\n",
       "      <td>...</td>\n",
       "      <td>False</td>\n",
       "      <td>False</td>\n",
       "      <td>False</td>\n",
       "      <td>True</td>\n",
       "      <td>False</td>\n",
       "      <td>False</td>\n",
       "      <td>False</td>\n",
       "      <td>False</td>\n",
       "      <td>False</td>\n",
       "      <td>False</td>\n",
       "    </tr>\n",
       "    <tr>\n",
       "      <th>1</th>\n",
       "      <td>Zona Rosa</td>\n",
       "      <td>2019</td>\n",
       "      <td>0.403846</td>\n",
       "      <td>0.469807</td>\n",
       "      <td>Add a Plot</td>\n",
       "      <td>1127</td>\n",
       "      <td>0.0</td>\n",
       "      <td>0</td>\n",
       "      <td>False</td>\n",
       "      <td>True</td>\n",
       "      <td>...</td>\n",
       "      <td>False</td>\n",
       "      <td>False</td>\n",
       "      <td>False</td>\n",
       "      <td>False</td>\n",
       "      <td>False</td>\n",
       "      <td>False</td>\n",
       "      <td>False</td>\n",
       "      <td>False</td>\n",
       "      <td>False</td>\n",
       "      <td>False</td>\n",
       "    </tr>\n",
       "    <tr>\n",
       "      <th>2</th>\n",
       "      <td>Young Wallander</td>\n",
       "      <td>2020</td>\n",
       "      <td>0.538462</td>\n",
       "      <td>0.469807</td>\n",
       "      <td>Follow recently graduated police officer Kurt ...</td>\n",
       "      <td>7</td>\n",
       "      <td>0.0</td>\n",
       "      <td>0</td>\n",
       "      <td>False</td>\n",
       "      <td>True</td>\n",
       "      <td>...</td>\n",
       "      <td>False</td>\n",
       "      <td>False</td>\n",
       "      <td>False</td>\n",
       "      <td>False</td>\n",
       "      <td>False</td>\n",
       "      <td>False</td>\n",
       "      <td>False</td>\n",
       "      <td>False</td>\n",
       "      <td>False</td>\n",
       "      <td>False</td>\n",
       "    </tr>\n",
       "    <tr>\n",
       "      <th>3</th>\n",
       "      <td>You vs. Wild</td>\n",
       "      <td>2019</td>\n",
       "      <td>0.538462</td>\n",
       "      <td>0.106667</td>\n",
       "      <td>In this interactive series, you'll make key de...</td>\n",
       "      <td>125</td>\n",
       "      <td>0.0</td>\n",
       "      <td>0</td>\n",
       "      <td>False</td>\n",
       "      <td>True</td>\n",
       "      <td>...</td>\n",
       "      <td>False</td>\n",
       "      <td>False</td>\n",
       "      <td>False</td>\n",
       "      <td>False</td>\n",
       "      <td>False</td>\n",
       "      <td>False</td>\n",
       "      <td>False</td>\n",
       "      <td>False</td>\n",
       "      <td>False</td>\n",
       "      <td>False</td>\n",
       "    </tr>\n",
       "    <tr>\n",
       "      <th>4</th>\n",
       "      <td>You</td>\n",
       "      <td>2018</td>\n",
       "      <td>0.750000</td>\n",
       "      <td>0.273333</td>\n",
       "      <td>A dangerously charming, intensely obsessive yo...</td>\n",
       "      <td>1086</td>\n",
       "      <td>0.0</td>\n",
       "      <td>0</td>\n",
       "      <td>False</td>\n",
       "      <td>True</td>\n",
       "      <td>...</td>\n",
       "      <td>False</td>\n",
       "      <td>False</td>\n",
       "      <td>False</td>\n",
       "      <td>False</td>\n",
       "      <td>False</td>\n",
       "      <td>False</td>\n",
       "      <td>False</td>\n",
       "      <td>False</td>\n",
       "      <td>False</td>\n",
       "      <td>False</td>\n",
       "    </tr>\n",
       "  </tbody>\n",
       "</table>\n",
       "<p>5 rows × 33 columns</p>\n",
       "</div>"
      ],
      "text/plain": [
       "                  titles  years      imdb   runtime  \\\n",
       "0  Zumbo's Just Desserts   2016  0.576923  0.320000   \n",
       "1              Zona Rosa   2019  0.403846  0.469807   \n",
       "2        Young Wallander   2020  0.538462  0.469807   \n",
       "3           You vs. Wild   2019  0.538462  0.106667   \n",
       "4                    You   2018  0.750000  0.273333   \n",
       "\n",
       "                                         description  stars  votes  original  \\\n",
       "0  Amateur Australian chefs compete to impress pa...    461    0.0         0   \n",
       "1                                         Add a Plot   1127    0.0         0   \n",
       "2  Follow recently graduated police officer Kurt ...      7    0.0         0   \n",
       "3  In this interactive series, you'll make key de...    125    0.0         0   \n",
       "4  A dangerously charming, intensely obsessive yo...   1086    0.0         0   \n",
       "\n",
       "   type_Movie  type_TV Show  ...  genres_Music  genres_Musical  \\\n",
       "0       False          True  ...         False           False   \n",
       "1       False          True  ...         False           False   \n",
       "2       False          True  ...         False           False   \n",
       "3       False          True  ...         False           False   \n",
       "4       False          True  ...         False           False   \n",
       "\n",
       "   genres_Mystery  genres_Reality-TV  genres_Romance  genres_Sci-Fi  \\\n",
       "0           False               True           False          False   \n",
       "1           False              False           False          False   \n",
       "2           False              False           False          False   \n",
       "3           False              False           False          False   \n",
       "4           False              False           False          False   \n",
       "\n",
       "   genres_Short  genres_Sport  genres_Talk-Show  genres_Thriller  \n",
       "0         False         False             False            False  \n",
       "1         False         False             False            False  \n",
       "2         False         False             False            False  \n",
       "3         False         False             False            False  \n",
       "4         False         False             False            False  \n",
       "\n",
       "[5 rows x 33 columns]"
      ]
     },
     "execution_count": 217,
     "metadata": {},
     "output_type": "execute_result"
    }
   ],
   "source": [
    "print(\"MinMaxScaler:\\n\")\n",
    "df_minmax.head()"
   ]
  },
  {
   "cell_type": "code",
   "execution_count": 221,
   "id": "3b6cb2b4-503b-4397-8060-9cd2203db8c8",
   "metadata": {},
   "outputs": [
    {
     "name": "stdout",
     "output_type": "stream",
     "text": [
      "RobustScaler:\n",
      "\n"
     ]
    },
    {
     "data": {
      "text/html": [
       "<div>\n",
       "<style scoped>\n",
       "    .dataframe tbody tr th:only-of-type {\n",
       "        vertical-align: middle;\n",
       "    }\n",
       "\n",
       "    .dataframe tbody tr th {\n",
       "        vertical-align: top;\n",
       "    }\n",
       "\n",
       "    .dataframe thead th {\n",
       "        text-align: right;\n",
       "    }\n",
       "</style>\n",
       "<table border=\"1\" class=\"dataframe\">\n",
       "  <thead>\n",
       "    <tr style=\"text-align: right;\">\n",
       "      <th></th>\n",
       "      <th>titles</th>\n",
       "      <th>years</th>\n",
       "      <th>imdb</th>\n",
       "      <th>runtime</th>\n",
       "      <th>description</th>\n",
       "      <th>stars</th>\n",
       "      <th>votes</th>\n",
       "      <th>original</th>\n",
       "      <th>type_Movie</th>\n",
       "      <th>type_TV Show</th>\n",
       "      <th>...</th>\n",
       "      <th>genres_Music</th>\n",
       "      <th>genres_Musical</th>\n",
       "      <th>genres_Mystery</th>\n",
       "      <th>genres_Reality-TV</th>\n",
       "      <th>genres_Romance</th>\n",
       "      <th>genres_Sci-Fi</th>\n",
       "      <th>genres_Short</th>\n",
       "      <th>genres_Sport</th>\n",
       "      <th>genres_Talk-Show</th>\n",
       "      <th>genres_Thriller</th>\n",
       "    </tr>\n",
       "  </thead>\n",
       "  <tbody>\n",
       "    <tr>\n",
       "      <th>0</th>\n",
       "      <td>Zumbo's Just Desserts</td>\n",
       "      <td>2016</td>\n",
       "      <td>0.071429</td>\n",
       "      <td>-0.428571</td>\n",
       "      <td>Amateur Australian chefs compete to impress pa...</td>\n",
       "      <td>461</td>\n",
       "      <td>0.0</td>\n",
       "      <td>0</td>\n",
       "      <td>False</td>\n",
       "      <td>True</td>\n",
       "      <td>...</td>\n",
       "      <td>False</td>\n",
       "      <td>False</td>\n",
       "      <td>False</td>\n",
       "      <td>True</td>\n",
       "      <td>False</td>\n",
       "      <td>False</td>\n",
       "      <td>False</td>\n",
       "      <td>False</td>\n",
       "      <td>False</td>\n",
       "      <td>False</td>\n",
       "    </tr>\n",
       "    <tr>\n",
       "      <th>1</th>\n",
       "      <td>Zona Rosa</td>\n",
       "      <td>2019</td>\n",
       "      <td>-0.571429</td>\n",
       "      <td>0.106452</td>\n",
       "      <td>Add a Plot</td>\n",
       "      <td>1127</td>\n",
       "      <td>0.0</td>\n",
       "      <td>0</td>\n",
       "      <td>False</td>\n",
       "      <td>True</td>\n",
       "      <td>...</td>\n",
       "      <td>False</td>\n",
       "      <td>False</td>\n",
       "      <td>False</td>\n",
       "      <td>False</td>\n",
       "      <td>False</td>\n",
       "      <td>False</td>\n",
       "      <td>False</td>\n",
       "      <td>False</td>\n",
       "      <td>False</td>\n",
       "      <td>False</td>\n",
       "    </tr>\n",
       "    <tr>\n",
       "      <th>2</th>\n",
       "      <td>Young Wallander</td>\n",
       "      <td>2020</td>\n",
       "      <td>-0.071429</td>\n",
       "      <td>0.106452</td>\n",
       "      <td>Follow recently graduated police officer Kurt ...</td>\n",
       "      <td>7</td>\n",
       "      <td>0.0</td>\n",
       "      <td>0</td>\n",
       "      <td>False</td>\n",
       "      <td>True</td>\n",
       "      <td>...</td>\n",
       "      <td>False</td>\n",
       "      <td>False</td>\n",
       "      <td>False</td>\n",
       "      <td>False</td>\n",
       "      <td>False</td>\n",
       "      <td>False</td>\n",
       "      <td>False</td>\n",
       "      <td>False</td>\n",
       "      <td>False</td>\n",
       "      <td>False</td>\n",
       "    </tr>\n",
       "    <tr>\n",
       "      <th>3</th>\n",
       "      <td>You vs. Wild</td>\n",
       "      <td>2019</td>\n",
       "      <td>-0.071429</td>\n",
       "      <td>-1.190476</td>\n",
       "      <td>In this interactive series, you'll make key de...</td>\n",
       "      <td>125</td>\n",
       "      <td>0.0</td>\n",
       "      <td>0</td>\n",
       "      <td>False</td>\n",
       "      <td>True</td>\n",
       "      <td>...</td>\n",
       "      <td>False</td>\n",
       "      <td>False</td>\n",
       "      <td>False</td>\n",
       "      <td>False</td>\n",
       "      <td>False</td>\n",
       "      <td>False</td>\n",
       "      <td>False</td>\n",
       "      <td>False</td>\n",
       "      <td>False</td>\n",
       "      <td>False</td>\n",
       "    </tr>\n",
       "    <tr>\n",
       "      <th>4</th>\n",
       "      <td>You</td>\n",
       "      <td>2018</td>\n",
       "      <td>0.714286</td>\n",
       "      <td>-0.595238</td>\n",
       "      <td>A dangerously charming, intensely obsessive yo...</td>\n",
       "      <td>1086</td>\n",
       "      <td>0.0</td>\n",
       "      <td>0</td>\n",
       "      <td>False</td>\n",
       "      <td>True</td>\n",
       "      <td>...</td>\n",
       "      <td>False</td>\n",
       "      <td>False</td>\n",
       "      <td>False</td>\n",
       "      <td>False</td>\n",
       "      <td>False</td>\n",
       "      <td>False</td>\n",
       "      <td>False</td>\n",
       "      <td>False</td>\n",
       "      <td>False</td>\n",
       "      <td>False</td>\n",
       "    </tr>\n",
       "  </tbody>\n",
       "</table>\n",
       "<p>5 rows × 33 columns</p>\n",
       "</div>"
      ],
      "text/plain": [
       "                  titles  years      imdb   runtime  \\\n",
       "0  Zumbo's Just Desserts   2016  0.071429 -0.428571   \n",
       "1              Zona Rosa   2019 -0.571429  0.106452   \n",
       "2        Young Wallander   2020 -0.071429  0.106452   \n",
       "3           You vs. Wild   2019 -0.071429 -1.190476   \n",
       "4                    You   2018  0.714286 -0.595238   \n",
       "\n",
       "                                         description  stars  votes  original  \\\n",
       "0  Amateur Australian chefs compete to impress pa...    461    0.0         0   \n",
       "1                                         Add a Plot   1127    0.0         0   \n",
       "2  Follow recently graduated police officer Kurt ...      7    0.0         0   \n",
       "3  In this interactive series, you'll make key de...    125    0.0         0   \n",
       "4  A dangerously charming, intensely obsessive yo...   1086    0.0         0   \n",
       "\n",
       "   type_Movie  type_TV Show  ...  genres_Music  genres_Musical  \\\n",
       "0       False          True  ...         False           False   \n",
       "1       False          True  ...         False           False   \n",
       "2       False          True  ...         False           False   \n",
       "3       False          True  ...         False           False   \n",
       "4       False          True  ...         False           False   \n",
       "\n",
       "   genres_Mystery  genres_Reality-TV  genres_Romance  genres_Sci-Fi  \\\n",
       "0           False               True           False          False   \n",
       "1           False              False           False          False   \n",
       "2           False              False           False          False   \n",
       "3           False              False           False          False   \n",
       "4           False              False           False          False   \n",
       "\n",
       "   genres_Short  genres_Sport  genres_Talk-Show  genres_Thriller  \n",
       "0         False         False             False            False  \n",
       "1         False         False             False            False  \n",
       "2         False         False             False            False  \n",
       "3         False         False             False            False  \n",
       "4         False         False             False            False  \n",
       "\n",
       "[5 rows x 33 columns]"
      ]
     },
     "execution_count": 221,
     "metadata": {},
     "output_type": "execute_result"
    }
   ],
   "source": [
    "print(\"RobustScaler:\\n\")\n",
    "df_robust.head()"
   ]
  },
  {
   "cell_type": "markdown",
   "id": "28e23b4e-c338-4856-8e02-0c54ac697f30",
   "metadata": {},
   "source": [
    "- imdb: StandardScaler because it’s likely normally distributed with values between 0 and 10.\n",
    "- runtime: RobustScaler to handle outliers (movies with very long durations).\n",
    "- votes: RobustScaler because of the expected outliers (some movies having either very few or very high votes).\n",
    "\n",
    "In short, StandardScaler works best for imdb (normal distribution), and RobustScaler is better for runtime and votes because it deals better with outliers."
   ]
  },
  {
   "cell_type": "code",
   "execution_count": null,
   "id": "ca6d3f1c-84fb-422e-96a9-3abee2114247",
   "metadata": {},
   "outputs": [],
   "source": []
  }
 ],
 "metadata": {
  "kernelspec": {
   "display_name": "Python 3 (ipykernel)",
   "language": "python",
   "name": "python3"
  },
  "language_info": {
   "codemirror_mode": {
    "name": "ipython",
    "version": 3
   },
   "file_extension": ".py",
   "mimetype": "text/x-python",
   "name": "python",
   "nbconvert_exporter": "python",
   "pygments_lexer": "ipython3",
   "version": "3.12.7"
  }
 },
 "nbformat": 4,
 "nbformat_minor": 5
}
